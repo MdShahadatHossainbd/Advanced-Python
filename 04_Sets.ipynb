{
  "nbformat": 4,
  "nbformat_minor": 0,
  "metadata": {
    "colab": {
      "name": "04. Sets.ipynb",
      "provenance": [],
      "authorship_tag": "ABX9TyOvv3srNIcPDDVUv6RPTdPA",
      "include_colab_link": true
    },
    "kernelspec": {
      "name": "python3",
      "display_name": "Python 3"
    }
  },
  "cells": [
    {
      "cell_type": "markdown",
      "metadata": {
        "id": "view-in-github",
        "colab_type": "text"
      },
      "source": [
        "<a href=\"https://colab.research.google.com/github/MdShahadatHossainbd/Advanced-Python/blob/main/04_Sets.ipynb\" target=\"_parent\"><img src=\"https://colab.research.google.com/assets/colab-badge.svg\" alt=\"Open In Colab\"/></a>"
      ]
    },
    {
      "cell_type": "markdown",
      "metadata": {
        "id": "_xxHyMZlqXxK"
      },
      "source": [
        "Create a set"
      ]
    },
    {
      "cell_type": "code",
      "metadata": {
        "id": "QuYEPvQ3p_6l",
        "outputId": "348aab4a-277e-46f5-d6e9-c0c70074c867",
        "colab": {
          "base_uri": "https://localhost:8080/",
          "height": 113
        }
      },
      "source": [
        "my_set = {\"apple\", \"banana\", \"cherry\"}\n",
        "print(my_set)\n",
        "\n",
        "# or use the set function and create from an iterable, e.g. list, tuple, string\n",
        "my_set_2 = set([\"one\", \"two\", \"three\"])\n",
        "my_set_2 = set((\"one\", \"two\", \"three\"))\n",
        "print(my_set_2)\n",
        "\n",
        "my_set_3 = set(\"aaabbbcccdddeeeeeffff\")\n",
        "print(my_set_3)\n",
        "\n",
        "# careful: an empty set cannot be created with {}, as this is interpreted as dict\n",
        "# use set() instead\n",
        "a = {}\n",
        "print(type(a))\n",
        "a = set()\n",
        "print(type(a))"
      ],
      "execution_count": 1,
      "outputs": [
        {
          "output_type": "stream",
          "text": [
            "{'apple', 'cherry', 'banana'}\n",
            "{'two', 'three', 'one'}\n",
            "{'b', 'c', 'd', 'f', 'a', 'e'}\n",
            "<class 'dict'>\n",
            "<class 'set'>\n"
          ],
          "name": "stdout"
        }
      ]
    },
    {
      "cell_type": "markdown",
      "metadata": {
        "id": "se8tP6zgr_So"
      },
      "source": [
        "Add elements"
      ]
    },
    {
      "cell_type": "code",
      "metadata": {
        "id": "dSih3jPUsE4_",
        "outputId": "f512fab3-adb5-4cc4-e8c0-e081ab201b6f",
        "colab": {
          "base_uri": "https://localhost:8080/",
          "height": 55
        }
      },
      "source": [
        "my_set = set()\n",
        "\n",
        "# use the add() method to add elements\n",
        "my_set.add(42)\n",
        "my_set.add(True)\n",
        "my_set.add(\"Hello\")\n",
        "\n",
        "# note: the order does not matter, and might differ when printed\n",
        "print(my_set)\n",
        "\n",
        "# nothing happens when the element is already present:\n",
        "my_set.add(42)\n",
        "print(my_set)"
      ],
      "execution_count": 2,
      "outputs": [
        {
          "output_type": "stream",
          "text": [
            "{True, 42, 'Hello'}\n",
            "{True, 42, 'Hello'}\n"
          ],
          "name": "stdout"
        }
      ]
    },
    {
      "cell_type": "markdown",
      "metadata": {
        "id": "e6mTiT6LsHch"
      },
      "source": [
        "Remove elements"
      ]
    },
    {
      "cell_type": "code",
      "metadata": {
        "id": "QE96rlBqsKOT",
        "outputId": "333554bd-7dd1-4625-b4eb-8ac4a4508c37",
        "colab": {
          "base_uri": "https://localhost:8080/",
          "height": 113
        }
      },
      "source": [
        "# remove(x): removes x, raises a KeyError if element is not present\n",
        "my_set = {\"apple\", \"banana\", \"cherry\"}\n",
        "my_set.remove(\"apple\")\n",
        "print(my_set)\n",
        "\n",
        "# KeyError:\n",
        "# my_set.remove(\"orange\")\n",
        "\n",
        "# discard(x): removes x, does nothing if element is not present\n",
        "my_set.discard(\"cherry\")\n",
        "my_set.discard(\"blueberry\")\n",
        "print(my_set)\n",
        "\n",
        "# clear() : remove all elements\n",
        "my_set.clear()\n",
        "print(my_set)\n",
        "\n",
        "# pop() : return and remove a random element\n",
        "a = {True, 2, False, \"hi\", \"hello\"}\n",
        "print(a.pop())\n",
        "print(a)"
      ],
      "execution_count": 3,
      "outputs": [
        {
          "output_type": "stream",
          "text": [
            "{'cherry', 'banana'}\n",
            "{'banana'}\n",
            "set()\n",
            "False\n",
            "{True, 2, 'hello', 'hi'}\n"
          ],
          "name": "stdout"
        }
      ]
    },
    {
      "cell_type": "markdown",
      "metadata": {
        "id": "rCBmLSnysXib"
      },
      "source": [
        "Check if element is in Set"
      ]
    },
    {
      "cell_type": "code",
      "metadata": {
        "id": "T6WRsWsWsYOr",
        "outputId": "720bb17d-9625-41f6-c1b5-5a319bf55dc2",
        "colab": {
          "base_uri": "https://localhost:8080/",
          "height": 36
        }
      },
      "source": [
        "my_set = {\"apple\", \"banana\", \"cherry\"}\n",
        "if \"apple\" in my_set:\n",
        "    print(\"yes\")"
      ],
      "execution_count": 4,
      "outputs": [
        {
          "output_type": "stream",
          "text": [
            "yes\n"
          ],
          "name": "stdout"
        }
      ]
    },
    {
      "cell_type": "markdown",
      "metadata": {
        "id": "gWjfkqSfsdX_"
      },
      "source": [
        "Iterating"
      ]
    },
    {
      "cell_type": "code",
      "metadata": {
        "id": "sK6ZUk6ZsiWb",
        "outputId": "ef7e813d-bf10-492b-9a21-e061477a3b6b",
        "colab": {
          "base_uri": "https://localhost:8080/",
          "height": 75
        }
      },
      "source": [
        "# Iterating over a set by using a for in loop\n",
        "# Note: order is not important\n",
        "my_set = {\"apple\", \"banana\", \"cherry\"}\n",
        "for i in my_set:\n",
        "    print(i)"
      ],
      "execution_count": 5,
      "outputs": [
        {
          "output_type": "stream",
          "text": [
            "apple\n",
            "cherry\n",
            "banana\n"
          ],
          "name": "stdout"
        }
      ]
    },
    {
      "cell_type": "markdown",
      "metadata": {
        "id": "B3B6nVOQsnQ2"
      },
      "source": [
        "Union and Intersection"
      ]
    },
    {
      "cell_type": "code",
      "metadata": {
        "id": "s_8_XfCdssKR",
        "outputId": "09b29c97-8743-4fce-fc0b-0ad900d66a8d",
        "colab": {
          "base_uri": "https://localhost:8080/",
          "height": 94
        }
      },
      "source": [
        "odds = {1, 3, 5, 7, 9}\n",
        "evens = {0, 2, 4, 6, 8}\n",
        "primes = {2, 3, 5, 7}\n",
        "\n",
        "# union() : combine elements from both sets, no duplication\n",
        "# note that this does not change the two sets\n",
        "u = odds.union(evens)\n",
        "print(u)\n",
        "\n",
        "# intersection(): take elements that are in both sets\n",
        "i = odds.intersection(evens)\n",
        "print(i)\n",
        "\n",
        "i = odds.intersection(primes)\n",
        "print(i)\n",
        "\n",
        "i = evens.intersection(primes)\n",
        "print(i)"
      ],
      "execution_count": 6,
      "outputs": [
        {
          "output_type": "stream",
          "text": [
            "{0, 1, 2, 3, 4, 5, 6, 7, 8, 9}\n",
            "set()\n",
            "{3, 5, 7}\n",
            "{2}\n"
          ],
          "name": "stdout"
        }
      ]
    },
    {
      "cell_type": "markdown",
      "metadata": {
        "id": "MEyGR4s1sxWb"
      },
      "source": [
        "\n",
        "Difference of sets"
      ]
    },
    {
      "cell_type": "code",
      "metadata": {
        "id": "gmsL2xiNs8yI",
        "outputId": "fc2ab627-fa88-4e66-cb13-51193df364c8",
        "colab": {
          "base_uri": "https://localhost:8080/",
          "height": 94
        }
      },
      "source": [
        "setA = {1, 2, 3, 4, 5, 6, 7, 8, 9}\n",
        "setB = {1, 2, 3, 10, 11, 12}\n",
        "\n",
        "# difference() : returns a set with all the elements from the setA that are not in setB.\n",
        "diff_set = setA.difference(setB)\n",
        "print(diff_set)\n",
        "\n",
        "# A.difference(B) is not the same as B.difference(A)\n",
        "diff_set = setB.difference(setA)\n",
        "print(diff_set)\n",
        "\n",
        "# symmetric_difference() : returns a set with all the elements that are in setA and setB but not in both\n",
        "diff_set = setA.symmetric_difference(setB)\n",
        "print(diff_set)\n",
        "\n",
        "# A.symmetric_difference(B) = B.symmetric_difference(A)\n",
        "diff_set = setB.symmetric_difference(setA)\n",
        "print(diff_set)"
      ],
      "execution_count": 7,
      "outputs": [
        {
          "output_type": "stream",
          "text": [
            "{4, 5, 6, 7, 8, 9}\n",
            "{10, 11, 12}\n",
            "{4, 5, 6, 7, 8, 9, 10, 11, 12}\n",
            "{4, 5, 6, 7, 8, 9, 10, 11, 12}\n"
          ],
          "name": "stdout"
        }
      ]
    },
    {
      "cell_type": "markdown",
      "metadata": {
        "id": "61-oO52qtBoZ"
      },
      "source": [
        "Updating sets"
      ]
    },
    {
      "cell_type": "code",
      "metadata": {
        "id": "87i_PNCptFN4",
        "outputId": "1e71cca3-9b31-4bc5-e95c-00778a25aace",
        "colab": {
          "base_uri": "https://localhost:8080/",
          "height": 94
        }
      },
      "source": [
        "setA = {1, 2, 3, 4, 5, 6, 7, 8, 9}\n",
        "setB = {1, 2, 3, 10, 11, 12}\n",
        "\n",
        "# update() : Update the set by adding elements from another set.\n",
        "setA.update(setB)\n",
        "print(setA)\n",
        "\n",
        "# intersection_update() : Update the set by keeping only the elements found in both\n",
        "setA = {1, 2, 3, 4, 5, 6, 7, 8, 9}\n",
        "setA.intersection_update(setB)\n",
        "print(setA)\n",
        "\n",
        "# difference_update() : Update the set by removing elements found in another set.\n",
        "setA = {1, 2, 3, 4, 5, 6, 7, 8, 9}\n",
        "setA.difference_update(setB)\n",
        "print(setA)\n",
        "\n",
        "# symmetric_difference_update() : Update the set by only keeping the elements found in either set, but not in both\n",
        "setA = {1, 2, 3, 4, 5, 6, 7, 8, 9}\n",
        "setA.symmetric_difference_update(setB)\n",
        "print(setA)\n",
        "\n",
        "# Note: all update methods also work with other iterables as argument, e.g lists, tuples\n",
        "# setA.update([1, 2, 3, 4, 5, 6])"
      ],
      "execution_count": 8,
      "outputs": [
        {
          "output_type": "stream",
          "text": [
            "{1, 2, 3, 4, 5, 6, 7, 8, 9, 10, 11, 12}\n",
            "{1, 2, 3}\n",
            "{4, 5, 6, 7, 8, 9}\n",
            "{4, 5, 6, 7, 8, 9, 10, 11, 12}\n"
          ],
          "name": "stdout"
        }
      ]
    },
    {
      "cell_type": "markdown",
      "metadata": {
        "id": "VHp56nPjtNGg"
      },
      "source": [
        "Copying"
      ]
    },
    {
      "cell_type": "code",
      "metadata": {
        "id": "rjbRMio_tN24",
        "outputId": "f01b5f05-80be-4082-80f9-e3ba9b431a35",
        "colab": {
          "base_uri": "https://localhost:8080/",
          "height": 94
        }
      },
      "source": [
        "set_org = {1, 2, 3, 4, 5}\n",
        "\n",
        "# this just copies the reference to the set, so be careful\n",
        "set_copy = set_org\n",
        "\n",
        "# now modifying the copy also affects the original\n",
        "set_copy.update([3, 4, 5, 6, 7])\n",
        "print(set_copy)\n",
        "print(set_org)\n",
        "\n",
        "# use copy() to actually copy the set\n",
        "set_org = {1, 2, 3, 4, 5}\n",
        "set_copy = set_org.copy()\n",
        "\n",
        "# now modifying the copy does not affect the original\n",
        "set_copy.update([3, 4, 5, 6, 7])\n",
        "print(set_copy)\n",
        "print(set_org)"
      ],
      "execution_count": 9,
      "outputs": [
        {
          "output_type": "stream",
          "text": [
            "{1, 2, 3, 4, 5, 6, 7}\n",
            "{1, 2, 3, 4, 5, 6, 7}\n",
            "{1, 2, 3, 4, 5, 6, 7}\n",
            "{1, 2, 3, 4, 5}\n"
          ],
          "name": "stdout"
        }
      ]
    },
    {
      "cell_type": "markdown",
      "metadata": {
        "id": "foSeYhEytRxi"
      },
      "source": [
        "Subset, Superset, and Disjoint"
      ]
    },
    {
      "cell_type": "code",
      "metadata": {
        "id": "JgWfJq0atX0W",
        "outputId": "db1581cb-4c0b-4c36-8c80-28187619bd15",
        "colab": {
          "base_uri": "https://localhost:8080/",
          "height": 132
        }
      },
      "source": [
        "setA = {1, 2, 3, 4, 5, 6}\n",
        "setB = {1, 2, 3}\n",
        "# issubset(setX): Returns True if setX contains the set\n",
        "print(setA.issubset(setB))\n",
        "print(setB.issubset(setA)) # True\n",
        "\n",
        "# issuperset(setX): Returns True if the set contains setX\n",
        "print(setA.issuperset(setB)) # True\n",
        "print(setB.issuperset(setA))\n",
        "\n",
        "# isdisjoint(setX) : Return True if both sets have a null intersection, i.e. no same elements\n",
        "setC = {7, 8, 9}\n",
        "print(setA.isdisjoint(setB))\n",
        "print(setA.isdisjoint(setC))"
      ],
      "execution_count": 10,
      "outputs": [
        {
          "output_type": "stream",
          "text": [
            "False\n",
            "True\n",
            "True\n",
            "False\n",
            "False\n",
            "True\n"
          ],
          "name": "stdout"
        }
      ]
    },
    {
      "cell_type": "markdown",
      "metadata": {
        "id": "OkDHzOIqtc38"
      },
      "source": [
        "Frozenset"
      ]
    },
    {
      "cell_type": "code",
      "metadata": {
        "id": "u_DxCspjthsU",
        "outputId": "4ebd1a36-10aa-4f3d-c358-67d1e1b984d8",
        "colab": {
          "base_uri": "https://localhost:8080/",
          "height": 75
        }
      },
      "source": [
        "a = frozenset([0, 1, 2, 3, 4])\n",
        "\n",
        "# The following is not allowed:\n",
        "# a.add(5)\n",
        "# a.remove(1)\n",
        "# a.discard(1)\n",
        "# a.clear()\n",
        "\n",
        "# Also no update methods are allowed:\n",
        "# a.update([1,2,3])\n",
        "\n",
        "# Other set operations work\n",
        "odds = frozenset({1, 3, 5, 7, 9})\n",
        "evens = frozenset({0, 2, 4, 6, 8})\n",
        "print(odds.union(evens))\n",
        "print(odds.intersection(evens))\n",
        "print(odds.difference(evens))"
      ],
      "execution_count": 11,
      "outputs": [
        {
          "output_type": "stream",
          "text": [
            "frozenset({0, 1, 2, 3, 4, 5, 6, 7, 8, 9})\n",
            "frozenset()\n",
            "frozenset({1, 3, 5, 7, 9})\n"
          ],
          "name": "stdout"
        }
      ]
    }
  ]
}