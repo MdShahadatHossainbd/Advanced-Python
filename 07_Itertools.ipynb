{
  "nbformat": 4,
  "nbformat_minor": 0,
  "metadata": {
    "colab": {
      "name": " 07. Itertools.ipynb",
      "provenance": [],
      "authorship_tag": "ABX9TyO+JqSvqi6Pb2stBDAhEN6d",
      "include_colab_link": true
    },
    "kernelspec": {
      "name": "python3",
      "display_name": "Python 3"
    }
  },
  "cells": [
    {
      "cell_type": "markdown",
      "metadata": {
        "id": "view-in-github",
        "colab_type": "text"
      },
      "source": [
        "<a href=\"https://colab.research.google.com/github/MdShahadatHossainbd/Advanced-Python/blob/main/07_Itertools.ipynb\" target=\"_parent\"><img src=\"https://colab.research.google.com/assets/colab-badge.svg\" alt=\"Open In Colab\"/></a>"
      ]
    },
    {
      "cell_type": "markdown",
      "metadata": {
        "id": "fqQhlgJXXs0-"
      },
      "source": [
        "https://github.com/python-engineer/python-engineer-notebooks/blob/master/advanced-python/07-Itertools.ipynb"
      ]
    },
    {
      "cell_type": "markdown",
      "metadata": {
        "id": "4VDi-9R8Xqv9"
      },
      "source": [
        "Itertools\n",
        "\n",
        "The Python itertools module is a collection of tools for handling iterators. Simply put, iterators are data types that can be used in a for loop. The most common iterator in Python is the list."
      ]
    },
    {
      "cell_type": "markdown",
      "metadata": {
        "id": "9smeCedkX1_V"
      },
      "source": [
        "\n",
        "product()"
      ]
    },
    {
      "cell_type": "code",
      "metadata": {
        "id": "J-xp8dnKXhwy",
        "outputId": "0ec079af-46fd-4bd4-e213-199d8e00dfb4",
        "colab": {
          "base_uri": "https://localhost:8080/"
        }
      },
      "source": [
        "from itertools import product\n",
        "\n",
        "prod = product([1, 2], [3, 4])\n",
        "print(list(prod)) # note that we convert the iterator to a list for printing\n",
        "\n",
        "# to allow the product of an iterable with itself, specify the number of repetitions \n",
        "prod = product([1, 2], [3], repeat=2)\n",
        "print(list(prod)) # note that we convert the iterator to a list for printing"
      ],
      "execution_count": 1,
      "outputs": [
        {
          "output_type": "stream",
          "text": [
            "[(1, 3), (1, 4), (2, 3), (2, 4)]\n",
            "[(1, 3, 1, 3), (1, 3, 2, 3), (2, 3, 1, 3), (2, 3, 2, 3)]\n"
          ],
          "name": "stdout"
        }
      ]
    },
    {
      "cell_type": "code",
      "metadata": {
        "id": "pWCuh2AWX_9D",
        "outputId": "d0dbafa7-7657-4606-a476-337d1b48acdb",
        "colab": {
          "base_uri": "https://localhost:8080/"
        }
      },
      "source": [
        "from itertools import product\n",
        "a = [1, 2]\n",
        "b = [3, 4]\n",
        "prod = product(a,b)\n",
        "print(list(prod)) # note that we convert the iterator to a list for printing\n",
        "\n",
        "# to allow the product of an iterable with itself, specify the number of repetitions \n",
        "prod = product([1, 2], [3], repeat=2)\n",
        "print(list(prod)) # note that we convert the iterator to a list for printing"
      ],
      "execution_count": 2,
      "outputs": [
        {
          "output_type": "stream",
          "text": [
            "[(1, 3), (1, 4), (2, 3), (2, 4)]\n",
            "[(1, 3, 1, 3), (1, 3, 2, 3), (2, 3, 1, 3), (2, 3, 2, 3)]\n"
          ],
          "name": "stdout"
        }
      ]
    },
    {
      "cell_type": "markdown",
      "metadata": {
        "id": "lwvmwKX1YOYl"
      },
      "source": [
        "permutations()"
      ]
    },
    {
      "cell_type": "code",
      "metadata": {
        "id": "rZ11LNk4YSVz",
        "outputId": "02787d1a-db21-4a4b-ce83-1b6189035e7a",
        "colab": {
          "base_uri": "https://localhost:8080/"
        }
      },
      "source": [
        "from itertools import permutations\n",
        "\n",
        "perm = permutations([1, 2, 3])\n",
        "print(list(perm))\n",
        "\n",
        "# optional: the length of the permutation tuples\n",
        "perm = permutations([1, 2, 3], 2)\n",
        "print(list(perm))"
      ],
      "execution_count": 3,
      "outputs": [
        {
          "output_type": "stream",
          "text": [
            "[(1, 2, 3), (1, 3, 2), (2, 1, 3), (2, 3, 1), (3, 1, 2), (3, 2, 1)]\n",
            "[(1, 2), (1, 3), (2, 1), (2, 3), (3, 1), (3, 2)]\n"
          ],
          "name": "stdout"
        }
      ]
    },
    {
      "cell_type": "markdown",
      "metadata": {
        "id": "QuRBymE2YVtq"
      },
      "source": [
        "combinations() and combinations_with_replacement()"
      ]
    },
    {
      "cell_type": "code",
      "metadata": {
        "id": "gULBNAbRYYiN",
        "outputId": "ee65f87d-10c7-4c3f-b740-bcc45308fc74",
        "colab": {
          "base_uri": "https://localhost:8080/"
        }
      },
      "source": [
        "from itertools import combinations, combinations_with_replacement\n",
        "\n",
        "# the second argument is mandatory and specifies the length of the output tuples.\n",
        "comb = combinations([1, 2, 3, 4], 2)\n",
        "print(list(comb))\n",
        "\n",
        "comb = combinations_with_replacement([1, 2, 3, 4], 2)\n",
        "print(list(comb))"
      ],
      "execution_count": 4,
      "outputs": [
        {
          "output_type": "stream",
          "text": [
            "[(1, 2), (1, 3), (1, 4), (2, 3), (2, 4), (3, 4)]\n",
            "[(1, 1), (1, 2), (1, 3), (1, 4), (2, 2), (2, 3), (2, 4), (3, 3), (3, 4), (4, 4)]\n"
          ],
          "name": "stdout"
        }
      ]
    },
    {
      "cell_type": "markdown",
      "metadata": {
        "id": "ExRsLGUMYc3F"
      },
      "source": [
        "accumulate()"
      ]
    },
    {
      "cell_type": "code",
      "metadata": {
        "id": "X8zW4qJQYghi",
        "outputId": "5d173552-0a2b-462e-b961-1c6a19792859",
        "colab": {
          "base_uri": "https://localhost:8080/"
        }
      },
      "source": [
        "from itertools import accumulate\n",
        "\n",
        "# return accumulated sums\n",
        "acc = accumulate([1,2,3,4])\n",
        "print(list(acc))\n",
        "\n",
        "# other possible functions are possible\n",
        "import operator\n",
        "acc = accumulate([1,2,3,4], func=operator.mul)\n",
        "print(list(acc))\n",
        "\n",
        "acc = accumulate([1,5,2,6,3,4], func=max)\n",
        "print(list(acc))"
      ],
      "execution_count": 5,
      "outputs": [
        {
          "output_type": "stream",
          "text": [
            "[1, 3, 6, 10]\n",
            "[1, 2, 6, 24]\n",
            "[1, 5, 5, 6, 6, 6]\n"
          ],
          "name": "stdout"
        }
      ]
    },
    {
      "cell_type": "markdown",
      "metadata": {
        "id": "zX_cPfGbYlQK"
      },
      "source": [
        "groupby()"
      ]
    },
    {
      "cell_type": "code",
      "metadata": {
        "id": "5o0nFmJUYpjW",
        "outputId": "de17fb84-867d-44ce-caa9-7323d9ea035c",
        "colab": {
          "base_uri": "https://localhost:8080/"
        }
      },
      "source": [
        "from itertools import groupby\n",
        "\n",
        "# use a function as key\n",
        "def smaller_than_3(x):\n",
        "    return x < 3\n",
        "\n",
        "group_obj = groupby([1, 2, 3, 4], key=smaller_than_3)\n",
        "for key, group in group_obj:\n",
        "    print(key, list(group))\n",
        "    \n",
        "# or use a lamda expression, e.g. words with an 'i':\n",
        "group_obj = groupby([\"hi\", \"nice\", \"hello\", \"cool\"], key=lambda x: \"i\" in x)\n",
        "for key, group in group_obj:\n",
        "    print(key, list(group))\n",
        "    \n",
        "persons = [{'name': 'Tim', 'age': 25}, {'name': 'Dan', 'age': 25}, \n",
        "           {'name': 'Lisa', 'age': 27}, {'name': 'Claire', 'age': 28}]\n",
        "\n",
        "for key, group in groupby(persons, key=lambda x: x['age']):\n",
        "    print(key, list(group))"
      ],
      "execution_count": 6,
      "outputs": [
        {
          "output_type": "stream",
          "text": [
            "True [1, 2]\n",
            "False [3, 4]\n",
            "True ['hi', 'nice']\n",
            "False ['hello', 'cool']\n",
            "25 [{'name': 'Tim', 'age': 25}, {'name': 'Dan', 'age': 25}]\n",
            "27 [{'name': 'Lisa', 'age': 27}]\n",
            "28 [{'name': 'Claire', 'age': 28}]\n"
          ],
          "name": "stdout"
        }
      ]
    },
    {
      "cell_type": "markdown",
      "metadata": {
        "id": "RG8FbuDWYwTW"
      },
      "source": [
        "Infinite iterators: count(), cycle(), repeat()"
      ]
    },
    {
      "cell_type": "code",
      "metadata": {
        "id": "Fuk4Mg5yY0qa",
        "outputId": "3d872baf-8200-4c5a-f1f8-5ce0eeed1ce6",
        "colab": {
          "base_uri": "https://localhost:8080/"
        }
      },
      "source": [
        "from itertools import count, cycle, repeat\n",
        "# count(x): count from x: x, x+1, x+2, x+3...\n",
        "for i in count(10):\n",
        "    print(i)\n",
        "    if  i >= 13:\n",
        "        break\n",
        "\n",
        "# cycle(iterable) : cycle infinitely through an iterable\n",
        "print(\"\")\n",
        "sum = 0\n",
        "for i in cycle([1, 2, 3]):\n",
        "    print(i)\n",
        "    sum += i\n",
        "    if sum >= 12:\n",
        "        break\n",
        "\n",
        "# repeat(x): repeat x infinitely or n times\n",
        "print(\"\")\n",
        "for i in repeat(\"A\", 3):\n",
        "    print(i)"
      ],
      "execution_count": 10,
      "outputs": [
        {
          "output_type": "stream",
          "text": [
            "10\n",
            "11\n",
            "12\n",
            "13\n",
            "\n",
            "1\n",
            "2\n",
            "3\n",
            "1\n",
            "2\n",
            "3\n",
            "\n",
            "A\n",
            "A\n",
            "A\n"
          ],
          "name": "stdout"
        }
      ]
    },
    {
      "cell_type": "code",
      "metadata": {
        "id": "BCWop6QwY8Lz"
      },
      "source": [
        "from itertools import repeat\n",
        "# count(x): count from x: x, x+1, x+2, x+3...\n",
        "for i in count(5):\n",
        "    print(i) "
      ],
      "execution_count": null,
      "outputs": []
    }
  ]
}