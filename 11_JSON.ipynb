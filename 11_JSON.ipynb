{
  "nbformat": 4,
  "nbformat_minor": 0,
  "metadata": {
    "colab": {
      "name": "11 JSON.ipynb",
      "provenance": [],
      "authorship_tag": "ABX9TyPxoED7t0OVcWTF52o3ecAK",
      "include_colab_link": true
    },
    "kernelspec": {
      "name": "python3",
      "display_name": "Python 3"
    }
  },
  "cells": [
    {
      "cell_type": "markdown",
      "metadata": {
        "id": "view-in-github",
        "colab_type": "text"
      },
      "source": [
        "<a href=\"https://colab.research.google.com/github/MdShahadatHossainbd/Advanced-Python/blob/main/11_JSON.ipynb\" target=\"_parent\"><img src=\"https://colab.research.google.com/assets/colab-badge.svg\" alt=\"Open In Colab\"/></a>"
      ]
    },
    {
      "cell_type": "markdown",
      "metadata": {
        "id": "Rf261JLLvdOV"
      },
      "source": [
        "\n",
        "JSON\n",
        "\n",
        "JSON (JavaScript Object Notation) is a leightweight data format for data exchange. In Python you have the built-in json module for encoding and decoding JSON data. Simply import it and you are ready to work with JSON data:\n",
        "\n",
        "import json\n",
        "\n",
        "Some advantages of JSON:\n",
        "\n",
        "    JSON exists as a \"sequence of bytes\" which is very useful in the case we need to transmit (stream) data over a network.\n",
        "    Compared to XML, JSON is much smaller, translating into faster data transfers, and better experiences.\n",
        "    JSON is extremely human-friendly since it is textual, and simultaneously machine-friendly.\n",
        "\n"
      ]
    },
    {
      "cell_type": "code",
      "metadata": {
        "id": "ZgpkMP_jvVs0"
      },
      "source": [
        "import json\n",
        "{\n",
        "    \"firstName\": \"Jane\",\n",
        "    \"lastName\": \"Doe\",\n",
        "    \"hobbies\": [\"running\", \"swimming\", \"singing\"],\n",
        "    \"age\": 28,\n",
        "    \"children\": [\n",
        "        {\n",
        "            \"firstName\": \"Alex\",\n",
        "            \"age\": 5\n",
        "        },\n",
        "        {\n",
        "            \"firstName\": \"Bob\",\n",
        "            \"age\": 7\n",
        "        }\n",
        "    ]\n",
        "}\n"
      ],
      "execution_count": null,
      "outputs": []
    },
    {
      "cell_type": "markdown",
      "metadata": {
        "id": "uhSNPhgovwq-"
      },
      "source": [
        "From Python to JSON (Serialization, Encode)"
      ]
    },
    {
      "cell_type": "code",
      "metadata": {
        "id": "Cxcs_ioFv1_V",
        "outputId": "db0662b6-2de8-4d75-f9ac-a054231c68ad",
        "colab": {
          "base_uri": "https://localhost:8080/"
        }
      },
      "source": [
        "import json\n",
        "\n",
        "person = {\"name\": \"John\", \"age\": 30, \"city\": \"New York\", \"hasChildren\": False, \"titles\": [\"engineer\", \"programmer\"]}\n",
        "\n",
        "# convert into JSON:\n",
        "person_json = json.dumps(person)\n",
        "# use different formatting style\n",
        "person_json2 = json.dumps(person, indent=4, separators=(\"; \", \"= \"), sort_keys=True)\n",
        "\n",
        "# the result is a JSON string:\n",
        "print(person_json) \n",
        "print(person_json2)"
      ],
      "execution_count": 2,
      "outputs": [
        {
          "output_type": "stream",
          "text": [
            "{\"name\": \"John\", \"age\": 30, \"city\": \"New York\", \"hasChildren\": false, \"titles\": [\"engineer\", \"programmer\"]}\n",
            "{\n",
            "    \"age\"= 30; \n",
            "    \"city\"= \"New York\"; \n",
            "    \"hasChildren\"= false; \n",
            "    \"name\"= \"John\"; \n",
            "    \"titles\"= [\n",
            "        \"engineer\"; \n",
            "        \"programmer\"\n",
            "    ]\n",
            "}\n"
          ],
          "name": "stdout"
        }
      ]
    },
    {
      "cell_type": "code",
      "metadata": {
        "id": "YB5N8ZWowEAO"
      },
      "source": [
        "import json\n",
        "\n",
        "person = {\"name\": \"John\", \"age\": 30, \"city\": \"New York\", \"hasChildren\": False, \"titles\": [\"engineer\", \"programmer\"]}\n",
        "\n",
        "with open('person.json', 'w') as f:\n",
        "    json.dump(person, f) # you can also specify indent etc..."
      ],
      "execution_count": 3,
      "outputs": []
    },
    {
      "cell_type": "markdown",
      "metadata": {
        "id": "QiPizkbQwAR-"
      },
      "source": [
        "FROM JSON to Python"
      ]
    },
    {
      "cell_type": "code",
      "metadata": {
        "id": "pRZ3dzLowKnV",
        "outputId": "40cc35ba-050f-4540-d3a0-7031492269b4",
        "colab": {
          "base_uri": "https://localhost:8080/"
        }
      },
      "source": [
        "import json\n",
        "person_json = \"\"\"\n",
        "{\n",
        "    \"age\": 30, \n",
        "    \"city\": \"New York\",\n",
        "    \"hasChildren\": false, \n",
        "    \"name\": \"John\",\n",
        "    \"titles\": [\n",
        "        \"engineer\",\n",
        "        \"programmer\"\n",
        "    ]\n",
        "}\n",
        "\"\"\"\n",
        "person = json.loads(person_json)\n",
        "print(person)"
      ],
      "execution_count": 4,
      "outputs": [
        {
          "output_type": "stream",
          "text": [
            "{'age': 30, 'city': 'New York', 'hasChildren': False, 'name': 'John', 'titles': ['engineer', 'programmer']}\n"
          ],
          "name": "stdout"
        }
      ]
    },
    {
      "cell_type": "code",
      "metadata": {
        "id": "Ea1xE7MywT99",
        "outputId": "07f0aaeb-2534-4525-bf0d-8d099660d177",
        "colab": {
          "base_uri": "https://localhost:8080/"
        }
      },
      "source": [
        "import json\n",
        "\n",
        "with open('person.json', 'r') as f:\n",
        "    person = json.load(f)\n",
        "    print(person)\n"
      ],
      "execution_count": 5,
      "outputs": [
        {
          "output_type": "stream",
          "text": [
            "{'name': 'John', 'age': 30, 'city': 'New York', 'hasChildren': False, 'titles': ['engineer', 'programmer']}\n"
          ],
          "name": "stdout"
        }
      ]
    },
    {
      "cell_type": "markdown",
      "metadata": {
        "id": "chwyQ73EwPKS"
      },
      "source": [
        "\n",
        "Working with Custom Objects"
      ]
    },
    {
      "cell_type": "code",
      "metadata": {
        "id": "Z2jbxFRzwaGR",
        "outputId": "5102b374-7712-4b04-8211-45b7c0ac968b",
        "colab": {
          "base_uri": "https://localhost:8080/"
        }
      },
      "source": [
        "import json\n",
        "def encode_complex(z):\n",
        "    if isinstance(z, complex):\n",
        "        # just the key of the class name is important, the value can be arbitrary.\n",
        "        return {z.__class__.__name__: True, \"real\":z.real, \"imag\":z.imag}\n",
        "    else:\n",
        "        raise TypeError(f\"Object of type '{z.__class__.__name__}' is not JSON serializable\")\n",
        "\n",
        "z = 5 + 9j\n",
        "zJSON = json.dumps(z, default=encode_complex)\n",
        "print(zJSON)"
      ],
      "execution_count": 6,
      "outputs": [
        {
          "output_type": "stream",
          "text": [
            "{\"complex\": true, \"real\": 5.0, \"imag\": 9.0}\n"
          ],
          "name": "stdout"
        }
      ]
    },
    {
      "cell_type": "code",
      "metadata": {
        "id": "Y_7O2nD9whgM",
        "outputId": "6b53051c-7c10-47d4-d9e9-00aad228e313",
        "colab": {
          "base_uri": "https://localhost:8080/"
        }
      },
      "source": [
        "from json import JSONEncoder\n",
        "class ComplexEncoder(JSONEncoder):\n",
        "    \n",
        "    def default(self, o):\n",
        "        if isinstance(z, complex):\n",
        "            return {z.__class__.__name__: True, \"real\":z.real, \"imag\":z.imag}\n",
        "        # Let the base class default method handle other objects or raise a TypeError\n",
        "        return JSONEncoder.default(self, o)\n",
        "    \n",
        "z = 5 + 9j\n",
        "zJSON = json.dumps(z, cls=ComplexEncoder)\n",
        "print(zJSON)\n",
        "# or use encoder directly:\n",
        "zJson = ComplexEncoder().encode(z)\n",
        "print(zJSON)"
      ],
      "execution_count": 7,
      "outputs": [
        {
          "output_type": "stream",
          "text": [
            "{\"complex\": true, \"real\": 5.0, \"imag\": 9.0}\n",
            "{\"complex\": true, \"real\": 5.0, \"imag\": 9.0}\n"
          ],
          "name": "stdout"
        }
      ]
    },
    {
      "cell_type": "markdown",
      "metadata": {
        "id": "u0CxCPrywelj"
      },
      "source": [
        "Decoding"
      ]
    },
    {
      "cell_type": "code",
      "metadata": {
        "id": "FN66HJ5hwpug",
        "outputId": "b2ff2572-55d2-4b9d-e0f7-9df9bb89ce2e",
        "colab": {
          "base_uri": "https://localhost:8080/"
        }
      },
      "source": [
        "# Possible but decoded as a dictionary\n",
        "z = json.loads(zJSON)\n",
        "print(type(z))\n",
        "print(z)\n",
        "\n",
        "def decode_complex(dct):\n",
        "    if complex.__name__ in dct:\n",
        "        return complex(dct[\"real\"], dct[\"imag\"])\n",
        "    return dct\n",
        "\n",
        "# Now the object is of type complex after decoding\n",
        "z = json.loads(zJSON, object_hook=decode_complex)\n",
        "print(type(z))\n",
        "print(z)"
      ],
      "execution_count": 8,
      "outputs": [
        {
          "output_type": "stream",
          "text": [
            "<class 'dict'>\n",
            "{'complex': True, 'real': 5.0, 'imag': 9.0}\n",
            "<class 'complex'>\n",
            "(5+9j)\n"
          ],
          "name": "stdout"
        }
      ]
    },
    {
      "cell_type": "markdown",
      "metadata": {
        "id": "OtedtaAjwv3H"
      },
      "source": [
        "Template encode and decode functions"
      ]
    },
    {
      "cell_type": "code",
      "metadata": {
        "id": "Bye8t13Wwwck",
        "outputId": "367e5fb0-067b-4df0-a380-f32f89355f7d",
        "colab": {
          "base_uri": "https://localhost:8080/"
        }
      },
      "source": [
        "class User:\n",
        "    # Custom class with all instance variables given in the __init__()\n",
        "    def __init__(self, name, age, active, balance, friends):\n",
        "        self.name = name\n",
        "        self.age = age\n",
        "        self.active = active\n",
        "        self.balance = balance\n",
        "        self.friends = friends\n",
        "        \n",
        "class Player:\n",
        "    # Other custom class\n",
        "    def __init__(self, name, nickname, level):\n",
        "        self.name = name\n",
        "        self.nickname = nickname\n",
        "        self.level = level\n",
        "          \n",
        "            \n",
        "def encode_obj(obj):\n",
        "    \"\"\"\n",
        "    Takes in a custom object and returns a dictionary representation of the object.\n",
        "    This dict representation also includes the object's module and class names.\n",
        "    \"\"\"\n",
        "  \n",
        "    #  Populate the dictionary with object meta data \n",
        "    obj_dict = {\n",
        "      \"__class__\": obj.__class__.__name__,\n",
        "      \"__module__\": obj.__module__\n",
        "    }\n",
        "  \n",
        "    #  Populate the dictionary with object properties\n",
        "    obj_dict.update(obj.__dict__)\n",
        "  \n",
        "    return obj_dict\n",
        "\n",
        "\n",
        "def decode_dct(dct):\n",
        "    \"\"\"\n",
        "    Takes in a dict and returns a custom object associated with the dict.\n",
        "    It makes use of the \"__module__\" and \"__class__\" metadata in the dictionary\n",
        "    to know which object type to create.\n",
        "    \"\"\"\n",
        "    if \"__class__\" in dct:\n",
        "        # Pop ensures we remove metadata from the dict to leave only the instance arguments\n",
        "        class_name = dct.pop(\"__class__\")\n",
        "        \n",
        "        # Get the module name from the dict and import it\n",
        "        module_name = dct.pop(\"__module__\")\n",
        "        \n",
        "        # We use the built in __import__ function since the module name is not yet known at runtime\n",
        "        module = __import__(module_name)\n",
        "        \n",
        "        # Get the class from the module\n",
        "        class_ = getattr(module,class_name)\n",
        "\n",
        "        # Use dictionary unpacking to initialize the object\n",
        "        # Note: This only works if all __init__() arguments of the class are exactly the dict keys\n",
        "        obj = class_(**dct)\n",
        "    else:\n",
        "        obj = dct\n",
        "    return obj\n",
        "\n",
        "# User class works with our encoding and decoding methods\n",
        "user = User(name = \"John\",age = 28, friends = [\"Jane\", \"Tom\"], balance = 20.70, active = True)\n",
        "\n",
        "userJSON = json.dumps(user,default=encode_obj,indent=4, sort_keys=True)\n",
        "print(userJSON)\n",
        "\n",
        "user_decoded = json.loads(userJSON, object_hook=decode_dct)\n",
        "print(type(user_decoded))\n",
        "\n",
        "# Player class also works with our custom encoding and decoding\n",
        "player = Player('Max', 'max1234', 5)\n",
        "playerJSON = json.dumps(player,default=encode_obj,indent=4, sort_keys=True)\n",
        "print(playerJSON)\n",
        "\n",
        "player_decoded = json.loads(playerJSON, object_hook=decode_dct)\n",
        "print(type(player_decoded))"
      ],
      "execution_count": 9,
      "outputs": [
        {
          "output_type": "stream",
          "text": [
            "{\n",
            "    \"__class__\": \"User\",\n",
            "    \"__module__\": \"__main__\",\n",
            "    \"active\": true,\n",
            "    \"age\": 28,\n",
            "    \"balance\": 20.7,\n",
            "    \"friends\": [\n",
            "        \"Jane\",\n",
            "        \"Tom\"\n",
            "    ],\n",
            "    \"name\": \"John\"\n",
            "}\n",
            "<class '__main__.User'>\n",
            "{\n",
            "    \"__class__\": \"Player\",\n",
            "    \"__module__\": \"__main__\",\n",
            "    \"level\": 5,\n",
            "    \"name\": \"Max\",\n",
            "    \"nickname\": \"max1234\"\n",
            "}\n",
            "<class '__main__.Player'>\n"
          ],
          "name": "stdout"
        }
      ]
    }
  ]
}