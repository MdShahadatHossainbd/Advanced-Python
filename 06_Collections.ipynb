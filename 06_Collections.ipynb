{
  "nbformat": 4,
  "nbformat_minor": 0,
  "metadata": {
    "colab": {
      "name": "06. Collections.ipynb",
      "provenance": [],
      "authorship_tag": "ABX9TyPyXADXNysEn6C7rRpXzz+V",
      "include_colab_link": true
    },
    "kernelspec": {
      "name": "python3",
      "display_name": "Python 3"
    }
  },
  "cells": [
    {
      "cell_type": "markdown",
      "metadata": {
        "id": "view-in-github",
        "colab_type": "text"
      },
      "source": [
        "<a href=\"https://colab.research.google.com/github/MdShahadatHossainbd/Advanced-Python/blob/main/06_Collections.ipynb\" target=\"_parent\"><img src=\"https://colab.research.google.com/assets/colab-badge.svg\" alt=\"Open In Colab\"/></a>"
      ]
    },
    {
      "cell_type": "markdown",
      "metadata": {
        "id": "cci3kSZv9kTt"
      },
      "source": [
        "Counter"
      ]
    },
    {
      "cell_type": "code",
      "metadata": {
        "id": "cg9rODa09aKV",
        "outputId": "d85744c1-b83d-4aea-9360-e3f5db5fe8b9",
        "colab": {
          "base_uri": "https://localhost:8080/"
        }
      },
      "source": [
        "from collections import Counter\n",
        "a = \"aaaaabbbbcccdde\"\n",
        "my_counter = Counter(a)\n",
        "print(my_counter)\n",
        "\n",
        "print(my_counter.items())\n",
        "print(my_counter.keys())\n",
        "print(my_counter.values())\n",
        "\n",
        "my_list = [0, 1, 0, 1, 2, 1, 1, 3, 2, 3, 2, 4]\n",
        "my_counter = Counter(my_list)\n",
        "print(my_counter)\n",
        "\n",
        "# most common items\n",
        "print(my_counter.most_common(1))\n",
        "\n",
        "# Return an iterator over elements repeating each as many times as its count. \n",
        "# Elements are returned in arbitrary order.\n",
        "print(list(my_counter.elements()))"
      ],
      "execution_count": 1,
      "outputs": [
        {
          "output_type": "stream",
          "text": [
            "Counter({'a': 5, 'b': 4, 'c': 3, 'd': 2, 'e': 1})\n",
            "dict_items([('a', 5), ('b', 4), ('c', 3), ('d', 2), ('e', 1)])\n",
            "dict_keys(['a', 'b', 'c', 'd', 'e'])\n",
            "dict_values([5, 4, 3, 2, 1])\n",
            "Counter({1: 4, 2: 3, 0: 2, 3: 2, 4: 1})\n",
            "[(1, 4)]\n",
            "[0, 0, 1, 1, 1, 1, 2, 2, 2, 3, 3, 4]\n"
          ],
          "name": "stdout"
        }
      ]
    },
    {
      "cell_type": "markdown",
      "metadata": {
        "id": "SGYDPxul9tY9"
      },
      "source": [
        "namedtuple"
      ]
    },
    {
      "cell_type": "code",
      "metadata": {
        "id": "9cUaBJtV-Euh",
        "outputId": "d53091b9-c7d1-4e84-cf86-71f8f9bcb841",
        "colab": {
          "base_uri": "https://localhost:8080/"
        }
      },
      "source": [
        "from collections import namedtuple\n",
        "# create a namedtuple with its class name as string and its fields as string\n",
        "# fields have to be separated by comma or space in the given string\n",
        "Point = namedtuple('Point','x, y')\n",
        "pt = Point(1, -4)\n",
        "print(pt)\n",
        "print(pt._fields)\n",
        "print(type(pt))\n",
        "print(pt.x, pt.y)\n",
        "\n",
        "Person = namedtuple('Person','name, age')\n",
        "friend = Person(name='Tom', age=25)\n",
        "print(friend.name, friend.age)"
      ],
      "execution_count": 2,
      "outputs": [
        {
          "output_type": "stream",
          "text": [
            "Point(x=1, y=-4)\n",
            "('x', 'y')\n",
            "<class '__main__.Point'>\n",
            "1 -4\n",
            "Tom 25\n"
          ],
          "name": "stdout"
        }
      ]
    },
    {
      "cell_type": "markdown",
      "metadata": {
        "id": "3n5CtpUx-Lpi"
      },
      "source": [
        "OrderedDict"
      ]
    },
    {
      "cell_type": "code",
      "metadata": {
        "id": "8aXreV4E-OdA",
        "outputId": "7285e761-dd59-4522-f9b7-1da295f9f837",
        "colab": {
          "base_uri": "https://localhost:8080/"
        }
      },
      "source": [
        "from collections import OrderedDict\n",
        "ordinary_dict = {}\n",
        "ordinary_dict['a'] = 1\n",
        "ordinary_dict['b'] = 2\n",
        "ordinary_dict['c'] = 3\n",
        "ordinary_dict['d'] = 4\n",
        "ordinary_dict['e'] = 5\n",
        "# this may be in orbitrary order prior to Python 3.7\n",
        "print(ordinary_dict)\n",
        "\n",
        "ordered_dict = OrderedDict()\n",
        "ordered_dict['a'] = 1\n",
        "ordered_dict['b'] = 2\n",
        "ordered_dict['c'] = 3\n",
        "ordered_dict['d'] = 4\n",
        "ordered_dict['e'] = 5\n",
        "print(ordered_dict)\n",
        "# same functionality as with ordinary dict, but always ordered\n",
        "for k, v in ordinary_dict.items():\n",
        "    print(k, v)"
      ],
      "execution_count": 3,
      "outputs": [
        {
          "output_type": "stream",
          "text": [
            "{'a': 1, 'b': 2, 'c': 3, 'd': 4, 'e': 5}\n",
            "OrderedDict([('a', 1), ('b', 2), ('c', 3), ('d', 4), ('e', 5)])\n",
            "a 1\n",
            "b 2\n",
            "c 3\n",
            "d 4\n",
            "e 5\n"
          ],
          "name": "stdout"
        }
      ]
    },
    {
      "cell_type": "markdown",
      "metadata": {
        "id": "QAupsix3-VuX"
      },
      "source": [
        "defaultdict"
      ]
    },
    {
      "cell_type": "code",
      "metadata": {
        "id": "JZptuVfa-Y0K",
        "outputId": "f484cdb4-4858-4d34-cd9a-6bc75cba34b0",
        "colab": {
          "base_uri": "https://localhost:8080/"
        }
      },
      "source": [
        "from collections import defaultdict\n",
        "\n",
        "# initialize with a default integer value, i.e 0\n",
        "d = defaultdict(int)\n",
        "d['yellow'] = 1\n",
        "d['blue'] = 2\n",
        "print(d.items())\n",
        "print(d['green'])\n",
        "\n",
        "# initialize with a default list value, i.e an empty list\n",
        "d = defaultdict(list)\n",
        "s = [('yellow', 1), ('blue', 2), ('yellow', 3), ('blue', 4), ('red', 5)]\n",
        "for k, v in s:\n",
        "    d[k].append(v)\n",
        "\n",
        "print(d.items())\n",
        "print(d['green'])"
      ],
      "execution_count": 4,
      "outputs": [
        {
          "output_type": "stream",
          "text": [
            "dict_items([('yellow', 1), ('blue', 2)])\n",
            "0\n",
            "dict_items([('yellow', [1, 3]), ('blue', [2, 4]), ('red', [5])])\n",
            "[]\n"
          ],
          "name": "stdout"
        }
      ]
    },
    {
      "cell_type": "markdown",
      "metadata": {
        "id": "9lxXQ4yb-c1_"
      },
      "source": [
        "deque"
      ]
    },
    {
      "cell_type": "code",
      "metadata": {
        "id": "Ira9RDgd-fUi",
        "outputId": "83640883-6bf5-42cc-97e4-c0e3b8f9e7c8",
        "colab": {
          "base_uri": "https://localhost:8080/"
        }
      },
      "source": [
        "from collections import deque\n",
        "d = deque()\n",
        "\n",
        "# append() : add elements to the right end \n",
        "d.append('a')\n",
        "d.append('b')\n",
        "print(d)\n",
        "\n",
        "# appendleft() : add elements to the left end \n",
        "d.appendleft('c')\n",
        "print(d)\n",
        "\n",
        "# pop() : return and remove elements from the right\n",
        "print(d.pop())\n",
        "print(d)\n",
        "\n",
        "# popleft() : return and remove elements from the left\n",
        "print(d.popleft())\n",
        "print(d)\n",
        "\n",
        "# clear() : remove all elements\n",
        "d.clear()\n",
        "print(d)\n",
        "\n",
        "d = deque(['a', 'b', 'c', 'd'])\n",
        "\n",
        "# extend at right or left side\n",
        "d.extend(['e', 'f', 'g'])\n",
        "d.extendleft(['h', 'i', 'j']) # note that 'j' is now at the left most position\n",
        "print(d)\n",
        "\n",
        "# count(x) : returns the number of found elements\n",
        "print(d.count('h'))\n",
        "\n",
        "# rotate 1 positions to the right\n",
        "d.rotate(1)\n",
        "print(d)\n",
        "\n",
        "# rotate 2 positions to the left\n",
        "d.rotate(-2)\n",
        "print(d)"
      ],
      "execution_count": 5,
      "outputs": [
        {
          "output_type": "stream",
          "text": [
            "deque(['a', 'b'])\n",
            "deque(['c', 'a', 'b'])\n",
            "b\n",
            "deque(['c', 'a'])\n",
            "c\n",
            "deque(['a'])\n",
            "deque([])\n",
            "deque(['j', 'i', 'h', 'a', 'b', 'c', 'd', 'e', 'f', 'g'])\n",
            "1\n",
            "deque(['g', 'j', 'i', 'h', 'a', 'b', 'c', 'd', 'e', 'f'])\n",
            "deque(['i', 'h', 'a', 'b', 'c', 'd', 'e', 'f', 'g', 'j'])\n"
          ],
          "name": "stdout"
        }
      ]
    },
    {
      "cell_type": "markdown",
      "metadata": {
        "id": "EEhOaC-m-k8j"
      },
      "source": [
        ""
      ]
    }
  ]
}