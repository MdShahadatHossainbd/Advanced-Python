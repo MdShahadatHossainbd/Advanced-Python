{
  "nbformat": 4,
  "nbformat_minor": 0,
  "metadata": {
    "colab": {
      "name": "01. Lists.ipynb",
      "provenance": [],
      "authorship_tag": "ABX9TyOKgVrsDXSPq2l8clEXIpuj",
      "include_colab_link": true
    },
    "kernelspec": {
      "name": "python3",
      "display_name": "Python 3"
    }
  },
  "cells": [
    {
      "cell_type": "markdown",
      "metadata": {
        "id": "view-in-github",
        "colab_type": "text"
      },
      "source": [
        "<a href=\"https://colab.research.google.com/github/MdShahadatHossainbd/Advanced-Python/blob/main/01_Lists.ipynb\" target=\"_parent\"><img src=\"https://colab.research.google.com/assets/colab-badge.svg\" alt=\"Open In Colab\"/></a>"
      ]
    },
    {
      "cell_type": "markdown",
      "metadata": {
        "id": "cCf6Yb3G6cfV"
      },
      "source": [
        "https://github.com/python-engineer/python-engineer-notebooks/blob/master/advanced-python/01-Lists.ipynb"
      ]
    },
    {
      "cell_type": "markdown",
      "metadata": {
        "id": "EzBbuh6v9_S0"
      },
      "source": [
        "#Creating a list"
      ]
    },
    {
      "cell_type": "code",
      "metadata": {
        "id": "05T_H25g6L_K",
        "outputId": "5bbeae44-a147-4661-865f-ec6fb7e4fb8e",
        "colab": {
          "base_uri": "https://localhost:8080/",
          "height": 90
        }
      },
      "source": [
        "# Lists are created with square brackets.\n",
        "list_1 = [\"banana\", \"cherry\", \"apple\"]\n",
        "print(list_1)\n",
        "\n",
        "# Or create an empty list with the list function\n",
        "list_2 = list()\n",
        "print(list_2)\n",
        "\n",
        "# Lists allow different data types\n",
        "list_3 = [5, True, \"apple\"]\n",
        "print(list_3)\n",
        "\n",
        "# Lists allow duplicates\n",
        "list_4 = [0, 0, 1, 1]\n",
        "print(list_4)"
      ],
      "execution_count": 1,
      "outputs": [
        {
          "output_type": "stream",
          "text": [
            "['banana', 'cherry', 'apple']\n",
            "[]\n",
            "[5, True, 'apple']\n",
            "[0, 0, 1, 1]\n"
          ],
          "name": "stdout"
        }
      ]
    },
    {
      "cell_type": "markdown",
      "metadata": {
        "id": "cS_Sl22q-Dms"
      },
      "source": [
        "#Access elements"
      ]
    },
    {
      "cell_type": "code",
      "metadata": {
        "id": "Q3VgI7Bj7PTA",
        "outputId": "039ead79-903f-4fa2-dbf0-6c81a9197387",
        "colab": {
          "base_uri": "https://localhost:8080/",
          "height": 35
        }
      },
      "source": [
        "# Lists allow different data types and Lists allow duplicates \n",
        "list_3 = [5, True, \"apple\",\"apple\"]\n",
        "print(list_3)"
      ],
      "execution_count": 6,
      "outputs": [
        {
          "output_type": "stream",
          "text": [
            "[5, True, 'apple', 'apple']\n"
          ],
          "name": "stdout"
        }
      ]
    },
    {
      "cell_type": "code",
      "metadata": {
        "id": "Cjr6mxfr66nK",
        "outputId": "a6f08284-28e8-42fc-964f-056a064d5088",
        "colab": {
          "base_uri": "https://localhost:8080/",
          "height": 35
        }
      },
      "source": [
        "# empty list\n",
        "list_2 = list()\n",
        "list_2"
      ],
      "execution_count": 7,
      "outputs": [
        {
          "output_type": "execute_result",
          "data": {
            "text/plain": [
              "[]"
            ]
          },
          "metadata": {
            "tags": []
          },
          "execution_count": 7
        }
      ]
    },
    {
      "cell_type": "markdown",
      "metadata": {
        "id": "oGmOs7fy-NaB"
      },
      "source": [
        "#Access elements"
      ]
    },
    {
      "cell_type": "code",
      "metadata": {
        "id": "krLZA5PA7iAg",
        "outputId": "caf21039-3d45-4c41-ce0f-da3fa65afb5f",
        "colab": {
          "base_uri": "https://localhost:8080/",
          "height": 54
        }
      },
      "source": [
        "#Access elements\n",
        "item = list_1[0]\n",
        "print(item)\n",
        "\n",
        "# You can also use negative indexing, e.g -1 refers to the last item,\n",
        "# -2 to the second last item, and so on\n",
        "item = list_1[-1]\n",
        "print(item)"
      ],
      "execution_count": 8,
      "outputs": [
        {
          "output_type": "stream",
          "text": [
            "banana\n",
            "apple\n"
          ],
          "name": "stdout"
        }
      ]
    },
    {
      "cell_type": "markdown",
      "metadata": {
        "id": "2RzLCJvN-Uan"
      },
      "source": [
        "#Change items"
      ]
    },
    {
      "cell_type": "code",
      "metadata": {
        "id": "AJz0HAEY8dI2",
        "outputId": "f1e4cec5-b336-48ef-b11f-cf9f4cffe815",
        "colab": {
          "base_uri": "https://localhost:8080/",
          "height": 35
        }
      },
      "source": [
        "#Change items\n",
        "# Lists can be altered after their creation\n",
        "list_1[2] = \"lemon\"\n",
        "print(list_1)"
      ],
      "execution_count": 9,
      "outputs": [
        {
          "output_type": "stream",
          "text": [
            "['banana', 'cherry', 'lemon']\n"
          ],
          "name": "stdout"
        }
      ]
    },
    {
      "cell_type": "code",
      "metadata": {
        "id": "Z7BRKH4b8wVw",
        "outputId": "02dd0563-7372-4c75-a409-a27154e4b7e4",
        "colab": {
          "base_uri": "https://localhost:8080/",
          "height": 35
        }
      },
      "source": [
        "list_1[2] = \"Mango\",\"Food\"\n",
        "list_1"
      ],
      "execution_count": 14,
      "outputs": [
        {
          "output_type": "execute_result",
          "data": {
            "text/plain": [
              "['banana', ('Mango', 'Food'), ('Mango', 'Food')]"
            ]
          },
          "metadata": {
            "tags": []
          },
          "execution_count": 14
        }
      ]
    },
    {
      "cell_type": "markdown",
      "metadata": {
        "id": "gUCjtFn59s7L"
      },
      "source": [
        "#Useful methods"
      ]
    },
    {
      "cell_type": "code",
      "metadata": {
        "id": "N0f_8LTh9kEu",
        "outputId": "f8845da4-f993-42d3-b969-ffb02b9c4a59",
        "colab": {
          "base_uri": "https://localhost:8080/",
          "height": 201
        }
      },
      "source": [
        "my_list = [\"banana\", \"cherry\", \"apple\"]\n",
        "\n",
        "# len() : get the number of elements in a list\n",
        "print(\"Length:\", len(my_list))\n",
        "\n",
        "# append() : adds an element to the end of the list\n",
        "my_list.append(\"orange\")\n",
        "\n",
        "# insert() : adds an element at the specified position\n",
        "my_list.insert(1, \"blueberry\")\n",
        "print(my_list)\n",
        "\n",
        "# pop() : removes and returns the item at the given position, default is the last item\n",
        "item = my_list.pop()\n",
        "print(\"Popped item: \", item)\n",
        "\n",
        "# remove() : removes an item from the list\n",
        "my_list.remove(\"cherry\") # Value error if not in the list\n",
        "print(my_list)\n",
        "\n",
        "# clear() : removes all items from the list\n",
        "my_list.clear()\n",
        "print(my_list)\n",
        "\n",
        "# reverse() : reverse the items\n",
        "my_list = [\"banana\", \"cherry\", \"apple\"]\n",
        "my_list.reverse()\n",
        "print('Reversed: ', my_list)\n",
        "\n",
        "# sort() : sort items in ascending order\n",
        "my_list.sort()\n",
        "print('Sorted: ', my_list)\n",
        "\n",
        "# use sorted() to get a new list, and leave the original unaffected.\n",
        "# sorted() works on any iterable type, not just lists\n",
        "my_list = [\"banana\", \"cherry\", \"apple\"]\n",
        "new_list = sorted(my_list)\n",
        "\n",
        "# create list with repeated elements\n",
        "list_with_zeros = [0] * 5\n",
        "print(list_with_zeros)\n",
        "\n",
        "# concatenation\n",
        "list_concat = list_with_zeros + my_list\n",
        "print(list_concat)\n",
        "\n",
        "# convert string to list\n",
        "string_to_list = list('Hello')\n",
        "print(string_to_list)"
      ],
      "execution_count": 15,
      "outputs": [
        {
          "output_type": "stream",
          "text": [
            "Length: 3\n",
            "['banana', 'blueberry', 'cherry', 'apple', 'orange']\n",
            "Popped item:  orange\n",
            "['banana', 'blueberry', 'apple']\n",
            "[]\n",
            "Reversed:  ['apple', 'cherry', 'banana']\n",
            "Sorted:  ['apple', 'banana', 'cherry']\n",
            "[0, 0, 0, 0, 0]\n",
            "[0, 0, 0, 0, 0, 'banana', 'cherry', 'apple']\n",
            "['H', 'e', 'l', 'l', 'o']\n"
          ],
          "name": "stdout"
        }
      ]
    },
    {
      "cell_type": "markdown",
      "metadata": {
        "id": "w6Lx1qw4Bwhg"
      },
      "source": [
        "#Copy a list"
      ]
    },
    {
      "cell_type": "code",
      "metadata": {
        "id": "G3JrW8t_-nQN",
        "outputId": "d66f1b2c-0b4e-4a58-cadb-486b42c4842f",
        "colab": {
          "base_uri": "https://localhost:8080/",
          "height": 90
        }
      },
      "source": [
        "list_org = [\"banana\", \"cherry\", \"apple\"]\n",
        "\n",
        "# this just copies the reference to the list, so be careful\n",
        "list_copy = list_org\n",
        "\n",
        "# now modifying the copy also affects the original\n",
        "list_copy.append(True)\n",
        "print(list_copy)\n",
        "print(list_org)\n",
        "\n",
        "# use copy(), or list(x) to actually copy the list\n",
        "# slicing also works: list_copy = list_org[:]\n",
        "list_org = [\"banana\", \"cherry\", \"apple\"]\n",
        "\n",
        "list_copy = list_org.copy()\n",
        "# list_copy = list(list_org)\n",
        "# list_copy = list_org[:]\n",
        "\n",
        "# now modifying the copy does not affect the original\n",
        "list_copy.append(True)\n",
        "print(list_copy)\n",
        "print(list_org)"
      ],
      "execution_count": 16,
      "outputs": [
        {
          "output_type": "stream",
          "text": [
            "['banana', 'cherry', 'apple', True]\n",
            "['banana', 'cherry', 'apple', True]\n",
            "['banana', 'cherry', 'apple', True]\n",
            "['banana', 'cherry', 'apple']\n"
          ],
          "name": "stdout"
        }
      ]
    },
    {
      "cell_type": "markdown",
      "metadata": {
        "id": "VSm8DO98CBH5"
      },
      "source": [
        "#Iterating"
      ]
    },
    {
      "cell_type": "code",
      "metadata": {
        "id": "U82PIFmOCDVd",
        "outputId": "263edff8-93b4-4554-9b9e-1087eedd2ad1",
        "colab": {
          "base_uri": "https://localhost:8080/",
          "height": 72
        }
      },
      "source": [
        "# Iterating over a list by using a for in loop\n",
        "for i in list_1:\n",
        "    print(i)"
      ],
      "execution_count": 17,
      "outputs": [
        {
          "output_type": "stream",
          "text": [
            "banana\n",
            "('Mango', 'Food')\n",
            "('Mango', 'Food')\n"
          ],
          "name": "stdout"
        }
      ]
    },
    {
      "cell_type": "markdown",
      "metadata": {
        "id": "7uAz-eqaCIg8"
      },
      "source": [
        "#Check if an item exists"
      ]
    },
    {
      "cell_type": "code",
      "metadata": {
        "id": "M-sUDidDB7aL",
        "outputId": "7b0eae04-2b60-4b01-e6ee-1743b6d16df6",
        "colab": {
          "base_uri": "https://localhost:8080/",
          "height": 35
        }
      },
      "source": [
        "if \"banana\" in list_1:\n",
        "    print(\"yes\")\n",
        "else:\n",
        "    print(\"no\")"
      ],
      "execution_count": 20,
      "outputs": [
        {
          "output_type": "stream",
          "text": [
            "yes\n"
          ],
          "name": "stdout"
        }
      ]
    },
    {
      "cell_type": "code",
      "metadata": {
        "id": "xL2td-j1CQV-",
        "outputId": "adf6c143-987e-4783-ab21-b0dde67c4c52",
        "colab": {
          "base_uri": "https://localhost:8080/",
          "height": 35
        }
      },
      "source": [
        "if \"pepe\" in list_1:\n",
        "    print(\"yes\")\n",
        "else:\n",
        "    print(\"no\")"
      ],
      "execution_count": 21,
      "outputs": [
        {
          "output_type": "stream",
          "text": [
            "no\n"
          ],
          "name": "stdout"
        }
      ]
    },
    {
      "cell_type": "markdown",
      "metadata": {
        "id": "oGsl2eBQCYpf"
      },
      "source": [
        "# Slicing"
      ]
    },
    {
      "cell_type": "code",
      "metadata": {
        "id": "ezThBbCBCc1z",
        "outputId": "884383f5-f8d2-4692-dca0-125667b2cb35",
        "colab": {
          "base_uri": "https://localhost:8080/",
          "height": 146
        }
      },
      "source": [
        "# a[start:stop:step], default step is 1\n",
        "a = [1, 2, 3, 4, 5, 6, 7, 8, 9, 10]\n",
        "b = a[1:3] # Note that the last index is not included\n",
        "print(b)\n",
        "b = a[2:] # until the end\n",
        "print(b)\n",
        "b = a[:3] # from beginning\n",
        "print(b)\n",
        "a[0:3] = [0] # replace sub-parts, you need an iterable here\n",
        "print(a)\n",
        "b = a[::2] # start to end with every second item\n",
        "print(b)\n",
        "a = a[::-1] # reverse the list with a negative step:\n",
        "print(a)\n",
        "b = a[:] # copy a list with slicing\n",
        "print(b)"
      ],
      "execution_count": 22,
      "outputs": [
        {
          "output_type": "stream",
          "text": [
            "[2, 3]\n",
            "[3, 4, 5, 6, 7, 8, 9, 10]\n",
            "[1, 2, 3]\n",
            "[0, 4, 5, 6, 7, 8, 9, 10]\n",
            "[0, 5, 7, 9]\n",
            "[10, 9, 8, 7, 6, 5, 4, 0]\n",
            "[10, 9, 8, 7, 6, 5, 4, 0]\n"
          ],
          "name": "stdout"
        }
      ]
    },
    {
      "cell_type": "markdown",
      "metadata": {
        "id": "WcYq4P6lCjWq"
      },
      "source": [
        "#List comprehension"
      ]
    },
    {
      "cell_type": "code",
      "metadata": {
        "id": "7Qekt2XwCo9B",
        "outputId": "a2a698bf-367c-41b8-9516-16c4d4971878",
        "colab": {
          "base_uri": "https://localhost:8080/",
          "height": 35
        }
      },
      "source": [
        "a = [1, 2, 3, 4, 5, 6, 7, 8]\n",
        "b = [i * i for i in a] # squares each element\n",
        "print(b)"
      ],
      "execution_count": 23,
      "outputs": [
        {
          "output_type": "stream",
          "text": [
            "[1, 4, 9, 16, 25, 36, 49, 64]\n"
          ],
          "name": "stdout"
        }
      ]
    },
    {
      "cell_type": "code",
      "metadata": {
        "id": "beBeiadHC0NP",
        "outputId": "b354472d-ecc1-418f-a9b7-162401953fbe",
        "colab": {
          "base_uri": "https://localhost:8080/",
          "height": 35
        }
      },
      "source": [
        "a = [1, 2, 3, 4, 5, 6, 7, 8]\n",
        "b = [i * 4 for i in a] # squares each element\n",
        "print(b)"
      ],
      "execution_count": 24,
      "outputs": [
        {
          "output_type": "stream",
          "text": [
            "[4, 8, 12, 16, 20, 24, 28, 32]\n"
          ],
          "name": "stdout"
        }
      ]
    },
    {
      "cell_type": "markdown",
      "metadata": {
        "id": "LmZJ0B0ECv7w"
      },
      "source": [
        "# Nested lists"
      ]
    },
    {
      "cell_type": "code",
      "metadata": {
        "id": "2xOEMogIC91o",
        "outputId": "9b8d573d-15b3-453e-ea84-42cda617cf1f",
        "colab": {
          "base_uri": "https://localhost:8080/",
          "height": 54
        }
      },
      "source": [
        "a = [[1, 2], [3, 4]]\n",
        "print(a)\n",
        "print(a[0])"
      ],
      "execution_count": 25,
      "outputs": [
        {
          "output_type": "stream",
          "text": [
            "[[1, 2], [3, 4]]\n",
            "[1, 2]\n"
          ],
          "name": "stdout"
        }
      ]
    }
  ]
}