{
  "nbformat": 4,
  "nbformat_minor": 0,
  "metadata": {
    "colab": {
      "name": "09 Exceptions.ipynb",
      "provenance": [],
      "authorship_tag": "ABX9TyPTg2QjvUS3T7GF+PxPQR0U",
      "include_colab_link": true
    },
    "kernelspec": {
      "name": "python3",
      "display_name": "Python 3"
    }
  },
  "cells": [
    {
      "cell_type": "markdown",
      "metadata": {
        "id": "view-in-github",
        "colab_type": "text"
      },
      "source": [
        "<a href=\"https://colab.research.google.com/github/MdShahadatHossainbd/Advanced-Python/blob/main/09_Exceptions.ipynb\" target=\"_parent\"><img src=\"https://colab.research.google.com/assets/colab-badge.svg\" alt=\"Open In Colab\"/></a>"
      ]
    },
    {
      "cell_type": "markdown",
      "metadata": {
        "id": "qM1zWVi7w7NM"
      },
      "source": [
        "#Errors and Exceptions\n",
        "A Python program terminates as soon as it encounters an error. In Python, an error can be a syntax error or an exception. In this article we will have a look at:\n",
        "\n",
        "    Syntax Error vs. Exception\n",
        "    How to raise Exceptions\n",
        "    How to handle Exceptions\n",
        "    Most common built-in Exceptions\n",
        "    How to define your own Exception\n",
        "\n",
        "Syntax Errors\n",
        "\n",
        "A Syntax Error occurs when the parser detects a syntactically incorrect statement. A syntax error can be for example a typo, missing brackets, no new line (see code below), or wrong identation (this will actually raise its own IndentationError, but its subclassed from a SyntaxError).\n"
      ]
    },
    {
      "cell_type": "code",
      "metadata": {
        "id": "xPzGnRG6w05T",
        "outputId": "8ec3d59b-32ce-4f98-fac9-cebea1f08e03",
        "colab": {
          "base_uri": "https://localhost:8080/",
          "height": 139
        }
      },
      "source": [
        "a = 5 print(a)"
      ],
      "execution_count": 1,
      "outputs": [
        {
          "output_type": "error",
          "ename": "SyntaxError",
          "evalue": "ignored",
          "traceback": [
            "\u001b[0;36m  File \u001b[0;32m\"<ipython-input-1-fed4b61d14cd>\"\u001b[0;36m, line \u001b[0;32m1\u001b[0m\n\u001b[0;31m    a = 5 print(a)\u001b[0m\n\u001b[0m              ^\u001b[0m\n\u001b[0;31mSyntaxError\u001b[0m\u001b[0;31m:\u001b[0m invalid syntax\n"
          ]
        }
      ]
    },
    {
      "cell_type": "markdown",
      "metadata": {
        "id": "PQ6ExoiaxOd3"
      },
      "source": [
        "Exceptions"
      ]
    },
    {
      "cell_type": "code",
      "metadata": {
        "id": "GawusfXVxLDx",
        "outputId": "5150c178-ea2b-4893-b51e-012569c49fbc",
        "colab": {
          "base_uri": "https://localhost:8080/",
          "height": 177
        }
      },
      "source": [
        "a = 5 + '10'"
      ],
      "execution_count": 2,
      "outputs": [
        {
          "output_type": "error",
          "ename": "TypeError",
          "evalue": "ignored",
          "traceback": [
            "\u001b[0;31m---------------------------------------------------------------------------\u001b[0m",
            "\u001b[0;31mTypeError\u001b[0m                                 Traceback (most recent call last)",
            "\u001b[0;32m<ipython-input-2-893398416ed7>\u001b[0m in \u001b[0;36m<module>\u001b[0;34m()\u001b[0m\n\u001b[0;32m----> 1\u001b[0;31m \u001b[0ma\u001b[0m \u001b[0;34m=\u001b[0m \u001b[0;36m5\u001b[0m \u001b[0;34m+\u001b[0m \u001b[0;34m'10'\u001b[0m\u001b[0;34m\u001b[0m\u001b[0;34m\u001b[0m\u001b[0m\n\u001b[0m",
            "\u001b[0;31mTypeError\u001b[0m: unsupported operand type(s) for +: 'int' and 'str'"
          ]
        }
      ]
    },
    {
      "cell_type": "markdown",
      "metadata": {
        "id": "sB7g-GQWxVzP"
      },
      "source": [
        "Raising an Exception"
      ]
    },
    {
      "cell_type": "code",
      "metadata": {
        "id": "bM1pLO7bxZ7O",
        "outputId": "acee19b2-41af-4983-98f3-f3203609eb57",
        "colab": {
          "base_uri": "https://localhost:8080/",
          "height": 216
        }
      },
      "source": [
        "x = -5\n",
        "if x < 0:\n",
        "    raise Exception('x should not be negative.')"
      ],
      "execution_count": 3,
      "outputs": [
        {
          "output_type": "error",
          "ename": "Exception",
          "evalue": "ignored",
          "traceback": [
            "\u001b[0;31m---------------------------------------------------------------------------\u001b[0m",
            "\u001b[0;31mException\u001b[0m                                 Traceback (most recent call last)",
            "\u001b[0;32m<ipython-input-3-2a9e7e673803>\u001b[0m in \u001b[0;36m<module>\u001b[0;34m()\u001b[0m\n\u001b[1;32m      1\u001b[0m \u001b[0mx\u001b[0m \u001b[0;34m=\u001b[0m \u001b[0;34m-\u001b[0m\u001b[0;36m5\u001b[0m\u001b[0;34m\u001b[0m\u001b[0;34m\u001b[0m\u001b[0m\n\u001b[1;32m      2\u001b[0m \u001b[0;32mif\u001b[0m \u001b[0mx\u001b[0m \u001b[0;34m<\u001b[0m \u001b[0;36m0\u001b[0m\u001b[0;34m:\u001b[0m\u001b[0;34m\u001b[0m\u001b[0;34m\u001b[0m\u001b[0m\n\u001b[0;32m----> 3\u001b[0;31m     \u001b[0;32mraise\u001b[0m \u001b[0mException\u001b[0m\u001b[0;34m(\u001b[0m\u001b[0;34m'x should not be negative.'\u001b[0m\u001b[0;34m)\u001b[0m\u001b[0;34m\u001b[0m\u001b[0;34m\u001b[0m\u001b[0m\n\u001b[0m",
            "\u001b[0;31mException\u001b[0m: x should not be negative."
          ]
        }
      ]
    },
    {
      "cell_type": "code",
      "metadata": {
        "id": "dUQDIt9rxhI-",
        "outputId": "be8d7913-7d1e-46fa-9002-512a6009ea27",
        "colab": {
          "base_uri": "https://localhost:8080/",
          "height": 216
        }
      },
      "source": [
        "x = -5\n",
        "assert (x >= 0), 'x is not positive.'\n",
        "# --> Your code will be fine if x >= 0"
      ],
      "execution_count": 4,
      "outputs": [
        {
          "output_type": "error",
          "ename": "AssertionError",
          "evalue": "ignored",
          "traceback": [
            "\u001b[0;31m---------------------------------------------------------------------------\u001b[0m",
            "\u001b[0;31mAssertionError\u001b[0m                            Traceback (most recent call last)",
            "\u001b[0;32m<ipython-input-4-f9b059c51e45>\u001b[0m in \u001b[0;36m<module>\u001b[0;34m()\u001b[0m\n\u001b[1;32m      1\u001b[0m \u001b[0mx\u001b[0m \u001b[0;34m=\u001b[0m \u001b[0;34m-\u001b[0m\u001b[0;36m5\u001b[0m\u001b[0;34m\u001b[0m\u001b[0;34m\u001b[0m\u001b[0m\n\u001b[0;32m----> 2\u001b[0;31m \u001b[0;32massert\u001b[0m \u001b[0;34m(\u001b[0m\u001b[0mx\u001b[0m \u001b[0;34m>=\u001b[0m \u001b[0;36m0\u001b[0m\u001b[0;34m)\u001b[0m\u001b[0;34m,\u001b[0m \u001b[0;34m'x is not positive.'\u001b[0m\u001b[0;34m\u001b[0m\u001b[0;34m\u001b[0m\u001b[0m\n\u001b[0m\u001b[1;32m      3\u001b[0m \u001b[0;31m# --> Your code will be fine if x >= 0\u001b[0m\u001b[0;34m\u001b[0m\u001b[0;34m\u001b[0m\u001b[0;34m\u001b[0m\u001b[0m\n",
            "\u001b[0;31mAssertionError\u001b[0m: x is not positive."
          ]
        }
      ]
    },
    {
      "cell_type": "markdown",
      "metadata": {
        "id": "321_i7EsxeMR"
      },
      "source": [
        "Handling Exceptions"
      ]
    },
    {
      "cell_type": "code",
      "metadata": {
        "id": "ykRkO3jxxs8j",
        "outputId": "963a98cf-c88d-4f6c-9021-6461f4b64514",
        "colab": {
          "base_uri": "https://localhost:8080/"
        }
      },
      "source": [
        "# This will catch all possible exceptions\n",
        "try:\n",
        "    a = 5 / 0\n",
        "except:\n",
        "    print('some error occured.')\n",
        "    \n",
        "# You can also catch the type of exception\n",
        "try:\n",
        "    a = 5 / 0\n",
        "except Exception as e:\n",
        "    print(e)\n",
        "    \n",
        "# It is good practice to specify the type of Exception you want to catch.\n",
        "# Therefore, you have to know the possible errors\n",
        "try:\n",
        "    a = 5 / 0\n",
        "except ZeroDivisionError:\n",
        "    print('Only a ZeroDivisionError is handled here')\n",
        "    \n",
        "# You can run multiple statements in a try block, and catch different possible exceptions\n",
        "try:\n",
        "    a = 5 / 1 # Note: No ZeroDivisionError here\n",
        "    b = a + '10'\n",
        "except ZeroDivisionError as e:\n",
        "    print('A ZeroDivisionError occured:', e)\n",
        "except TypeError as e:\n",
        "    print('A TypeError occured:', e)"
      ],
      "execution_count": 5,
      "outputs": [
        {
          "output_type": "stream",
          "text": [
            "some error occured.\n",
            "division by zero\n",
            "Only a ZeroDivisionError is handled here\n",
            "A TypeError occured: unsupported operand type(s) for +: 'float' and 'str'\n"
          ],
          "name": "stdout"
        }
      ]
    },
    {
      "cell_type": "markdown",
      "metadata": {
        "id": "qVxq-Ho9x1OG"
      },
      "source": [
        "else clause"
      ]
    },
    {
      "cell_type": "code",
      "metadata": {
        "id": "FmwAB8GHx7qY",
        "outputId": "de8f2960-d079-416c-dc9e-ddd894d04678",
        "colab": {
          "base_uri": "https://localhost:8080/"
        }
      },
      "source": [
        "try:\n",
        "    a = 5 / 1\n",
        "except ZeroDivisionError as e:\n",
        "    print('A ZeroDivisionError occured:', e)\n",
        "else:\n",
        "    print('Everything is ok')"
      ],
      "execution_count": 6,
      "outputs": [
        {
          "output_type": "stream",
          "text": [
            "Everything is ok\n"
          ],
          "name": "stdout"
        }
      ]
    },
    {
      "cell_type": "markdown",
      "metadata": {
        "id": "wSUUiVM4yB6J"
      },
      "source": [
        "finally clause"
      ]
    },
    {
      "cell_type": "code",
      "metadata": {
        "id": "Cl_JyXa1yC_l",
        "outputId": "7473e9f5-0872-4b04-ca17-78d2a52260fd",
        "colab": {
          "base_uri": "https://localhost:8080/"
        }
      },
      "source": [
        "try:\n",
        "    a = 5 / 1 # Note: No ZeroDivisionError here\n",
        "    b = a + '10'\n",
        "except ZeroDivisionError as e:\n",
        "    print('A ZeroDivisionError occured:', e)\n",
        "except TypeError as e:\n",
        "    print('A TypeError occured:', e)\n",
        "else:\n",
        "    print('Everything is ok')\n",
        "finally:\n",
        "    print('Cleaning up some stuff...')"
      ],
      "execution_count": 7,
      "outputs": [
        {
          "output_type": "stream",
          "text": [
            "A TypeError occured: unsupported operand type(s) for +: 'float' and 'str'\n",
            "Cleaning up some stuff...\n"
          ],
          "name": "stdout"
        }
      ]
    },
    {
      "cell_type": "markdown",
      "metadata": {
        "id": "BkrGSt2jyJFo"
      },
      "source": [
        "Common built-in Exceptions"
      ]
    },
    {
      "cell_type": "code",
      "metadata": {
        "id": "YZYsxI2yyQLp",
        "outputId": "e3228bdc-43cc-4ead-d20b-3f4c43580641",
        "colab": {
          "base_uri": "https://localhost:8080/",
          "height": 408
        }
      },
      "source": [
        "# ImportError\n",
        "import nonexistingmodule\n",
        "\n",
        "# NameError\n",
        "a = someundefinedvariable\n",
        "\n",
        "# FileNotFoundError\n",
        "with open('nonexistingfile.txt') as f:\n",
        "    read_data = f.read()\n",
        "\n",
        "# ValueError\n",
        "a = [0, 1, 2]\n",
        "a.remove(3)\n",
        "\n",
        "# TypeError\n",
        "a = 5 + \"10\"\n",
        "\n",
        "# IndexError\n",
        "a = [0, 1, 2]\n",
        "value = a[5]\n",
        "\n",
        "# KeyError\n",
        "my_dict = {\"name\": \"Max\", \"city\": \"Boston\"}\n",
        "age = my_dict[\"age\"]"
      ],
      "execution_count": 8,
      "outputs": [
        {
          "output_type": "error",
          "ename": "ModuleNotFoundError",
          "evalue": "ignored",
          "traceback": [
            "\u001b[0;31m---------------------------------------------------------------------------\u001b[0m",
            "\u001b[0;31mModuleNotFoundError\u001b[0m                       Traceback (most recent call last)",
            "\u001b[0;32m<ipython-input-8-37fd6b92bbe6>\u001b[0m in \u001b[0;36m<module>\u001b[0;34m()\u001b[0m\n\u001b[1;32m      1\u001b[0m \u001b[0;31m# ImportError\u001b[0m\u001b[0;34m\u001b[0m\u001b[0;34m\u001b[0m\u001b[0;34m\u001b[0m\u001b[0m\n\u001b[0;32m----> 2\u001b[0;31m \u001b[0;32mimport\u001b[0m \u001b[0mnonexistingmodule\u001b[0m\u001b[0;34m\u001b[0m\u001b[0;34m\u001b[0m\u001b[0m\n\u001b[0m\u001b[1;32m      3\u001b[0m \u001b[0;34m\u001b[0m\u001b[0m\n\u001b[1;32m      4\u001b[0m \u001b[0;31m# NameError\u001b[0m\u001b[0;34m\u001b[0m\u001b[0;34m\u001b[0m\u001b[0;34m\u001b[0m\u001b[0m\n\u001b[1;32m      5\u001b[0m \u001b[0ma\u001b[0m \u001b[0;34m=\u001b[0m \u001b[0msomeundefinedvariable\u001b[0m\u001b[0;34m\u001b[0m\u001b[0;34m\u001b[0m\u001b[0m\n",
            "\u001b[0;31mModuleNotFoundError\u001b[0m: No module named 'nonexistingmodule'",
            "",
            "\u001b[0;31m---------------------------------------------------------------------------\u001b[0;32m\nNOTE: If your import is failing due to a missing package, you can\nmanually install dependencies using either !pip or !apt.\n\nTo view examples of installing some common dependencies, click the\n\"Open Examples\" button below.\n\u001b[0;31m---------------------------------------------------------------------------\u001b[0m\n"
          ]
        }
      ]
    },
    {
      "cell_type": "markdown",
      "metadata": {
        "id": "TP_43RzgyVZ9"
      },
      "source": [
        "Define your own Exceptions"
      ]
    },
    {
      "cell_type": "code",
      "metadata": {
        "id": "_KGysDkNyY01",
        "outputId": "f99224bd-dd0d-449c-d021-90f7b443f685",
        "colab": {
          "base_uri": "https://localhost:8080/"
        }
      },
      "source": [
        "# minimal example for own exception class\n",
        "class ValueTooHighError(Exception):\n",
        "    pass\n",
        "\n",
        "# or add some more information for handlers\n",
        "class ValueTooLowError(Exception):\n",
        "    def __init__(self, message, value):\n",
        "        self.message = message\n",
        "        self.value = value\n",
        "\n",
        "def test_value(a):\n",
        "    if a > 1000:\n",
        "        raise ValueTooHighError('Value is too high.')\n",
        "    if a < 5:\n",
        "        raise ValueTooLowError('Value is too low.', a) # Note that the constructor takes 2 arguments here\n",
        "    return a\n",
        "\n",
        "try:\n",
        "    test_value(1)\n",
        "except ValueTooHighError as e:\n",
        "    print(e)\n",
        "except ValueTooLowError as e:\n",
        "    print(e.message, 'The value is:', e.value)"
      ],
      "execution_count": 9,
      "outputs": [
        {
          "output_type": "stream",
          "text": [
            "Value is too low. The value is: 1\n"
          ],
          "name": "stdout"
        }
      ]
    }
  ]
}