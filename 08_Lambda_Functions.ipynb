{
  "nbformat": 4,
  "nbformat_minor": 0,
  "metadata": {
    "colab": {
      "name": "08 Lambda Functions.ipynb",
      "provenance": [],
      "authorship_tag": "ABX9TyPRQSEPCKLm43ATi3UrvNta",
      "include_colab_link": true
    },
    "kernelspec": {
      "name": "python3",
      "display_name": "Python 3"
    }
  },
  "cells": [
    {
      "cell_type": "markdown",
      "metadata": {
        "id": "view-in-github",
        "colab_type": "text"
      },
      "source": [
        "<a href=\"https://colab.research.google.com/github/MdShahadatHossainbd/Advanced-Python/blob/main/08_Lambda_Functions.ipynb\" target=\"_parent\"><img src=\"https://colab.research.google.com/assets/colab-badge.svg\" alt=\"Open In Colab\"/></a>"
      ]
    },
    {
      "cell_type": "markdown",
      "metadata": {
        "id": "gyHp0CsrK5RA"
      },
      "source": [
        "Lambda functions"
      ]
    },
    {
      "cell_type": "code",
      "metadata": {
        "id": "diveD_wGGWSE",
        "outputId": "76f7fb4d-0cea-48a9-cea1-e9dba04e6cbc",
        "colab": {
          "base_uri": "https://localhost:8080/"
        }
      },
      "source": [
        "# a lambda function that adds 10 to the input argument\n",
        "f = lambda x: x+10\n",
        "val1 = f(5)\n",
        "val2 = f(100)\n",
        "print(val1, val2)\n",
        "\n",
        "# a lambda function that multiplies two input arguments and returns the result\n",
        "f = lambda x,y: x*y\n",
        "val3 = f(2,10)\n",
        "val4 = f(7,5)\n",
        "print(val3, val4)"
      ],
      "execution_count": 1,
      "outputs": [
        {
          "output_type": "stream",
          "text": [
            "15 110\n",
            "20 35\n"
          ],
          "name": "stdout"
        }
      ]
    },
    {
      "cell_type": "markdown",
      "metadata": {
        "id": "m-HgGFUCLCxT"
      },
      "source": [
        "Usage example: Lamdba inside another function"
      ]
    },
    {
      "cell_type": "code",
      "metadata": {
        "id": "H2JLnVZqLDcv",
        "outputId": "d252dc46-75b4-4757-da30-337575ab7a72",
        "colab": {
          "base_uri": "https://localhost:8080/"
        }
      },
      "source": [
        "def myfunc(n):\n",
        "    return lambda x: x * n\n",
        "\n",
        "doubler = myfunc(2)\n",
        "print(doubler(6))\n",
        "\n",
        "tripler = myfunc(3)\n",
        "print(tripler(6))"
      ],
      "execution_count": 2,
      "outputs": [
        {
          "output_type": "stream",
          "text": [
            "12\n",
            "18\n"
          ],
          "name": "stdout"
        }
      ]
    },
    {
      "cell_type": "markdown",
      "metadata": {
        "id": "cJU4s-AqLJoC"
      },
      "source": [
        "Custom sorting using a lambda function as key parameter"
      ]
    },
    {
      "cell_type": "code",
      "metadata": {
        "id": "hBF7QHbDLNg7",
        "outputId": "539d1178-742a-4091-b3ab-7c0758250410",
        "colab": {
          "base_uri": "https://localhost:8080/"
        }
      },
      "source": [
        "points2D = [(1, 9), (4, 1), (5, -3), (10, 2)]\n",
        "sorted_by_y = sorted(points2D, key= lambda x: x[1])\n",
        "print(sorted_by_y)\n",
        "\n",
        "mylist = [- 1, -4, -2, -3, 1, 2, 3, 4]\n",
        "sorted_by_abs = sorted(mylist, key= lambda x: abs(x))\n",
        "print(sorted_by_abs)"
      ],
      "execution_count": 3,
      "outputs": [
        {
          "output_type": "stream",
          "text": [
            "[(5, -3), (4, 1), (10, 2), (1, 9)]\n",
            "[-1, 1, -2, 2, -3, 3, -4, 4]\n"
          ],
          "name": "stdout"
        }
      ]
    },
    {
      "cell_type": "markdown",
      "metadata": {
        "id": "J-Ng9I4ILRmD"
      },
      "source": [
        "Use lambda for map function"
      ]
    },
    {
      "cell_type": "code",
      "metadata": {
        "id": "OmGQtyB4LU7T",
        "outputId": "21ee16b1-ff35-47cb-841c-d53dd17e7c29",
        "colab": {
          "base_uri": "https://localhost:8080/"
        }
      },
      "source": [
        "a  = [1, 2, 3, 4, 5, 6]\n",
        "b = list(map(lambda x: x * 2 , a))\n",
        "\n",
        "# However, try to prefer list comprehension\n",
        "# Use map if you have an already defined function\n",
        "c = [x*2 for x in a]\n",
        "print(b)\n",
        "print(c)"
      ],
      "execution_count": 4,
      "outputs": [
        {
          "output_type": "stream",
          "text": [
            "[2, 4, 6, 8, 10, 12]\n",
            "[2, 4, 6, 8, 10, 12]\n"
          ],
          "name": "stdout"
        }
      ]
    },
    {
      "cell_type": "markdown",
      "metadata": {
        "id": "OGeylOJrLai_"
      },
      "source": [
        "Use lambda for filter function"
      ]
    },
    {
      "cell_type": "code",
      "metadata": {
        "id": "V4xWXu-2Leh2",
        "outputId": "aad197b4-3e0a-4bc7-cdc3-25933abe3a8a",
        "colab": {
          "base_uri": "https://localhost:8080/"
        }
      },
      "source": [
        "a = [1, 2, 3, 4, 5, 6, 7, 8]\n",
        "b = list(filter(lambda x: (x%2 == 0) , a))\n",
        "\n",
        "# However, the same can be achieved with list comprehension\n",
        "c = [x for x in a if x%2 == 0]\n",
        "print(b)\n",
        "print(c)"
      ],
      "execution_count": 5,
      "outputs": [
        {
          "output_type": "stream",
          "text": [
            "[2, 4, 6, 8]\n",
            "[2, 4, 6, 8]\n"
          ],
          "name": "stdout"
        }
      ]
    },
    {
      "cell_type": "markdown",
      "metadata": {
        "id": "ZbZZuNx8MHOz"
      },
      "source": [
        "reduce"
      ]
    },
    {
      "cell_type": "code",
      "metadata": {
        "id": "199RSMC0MIXt",
        "outputId": "8052cd5c-0cef-45d0-aa97-20aa3c2ea2a1",
        "colab": {
          "base_uri": "https://localhost:8080/"
        }
      },
      "source": [
        "from functools import reduce\n",
        "a = [1, 2, 3, 4]\n",
        "product_a = reduce(lambda x, y: x*y, a)\n",
        "print(product_a)\n",
        "sum_a = reduce(lambda x, y: x+y, a)\n",
        "print(sum_a)"
      ],
      "execution_count": 6,
      "outputs": [
        {
          "output_type": "stream",
          "text": [
            "24\n",
            "10\n"
          ],
          "name": "stdout"
        }
      ]
    }
  ]
}