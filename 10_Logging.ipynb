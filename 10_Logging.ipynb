{
  "nbformat": 4,
  "nbformat_minor": 0,
  "metadata": {
    "colab": {
      "name": "10 Logging.ipynb",
      "provenance": [],
      "authorship_tag": "ABX9TyPiZp/dv3Bbvf1hjn9hEIvA",
      "include_colab_link": true
    },
    "kernelspec": {
      "name": "python3",
      "display_name": "Python 3"
    }
  },
  "cells": [
    {
      "cell_type": "markdown",
      "metadata": {
        "id": "view-in-github",
        "colab_type": "text"
      },
      "source": [
        "<a href=\"https://colab.research.google.com/github/MdShahadatHossainbd/Advanced-Python/blob/main/10_Logging.ipynb\" target=\"_parent\"><img src=\"https://colab.research.google.com/assets/colab-badge.svg\" alt=\"Open In Colab\"/></a>"
      ]
    },
    {
      "cell_type": "markdown",
      "metadata": {
        "id": "CFmuekscaCBg"
      },
      "source": [
        "\n",
        "Logging\n",
        "\n",
        "The logging module in Python is a powerful built-in module so you can quickly add logging to your application.\n",
        "import logging\n"
      ]
    },
    {
      "cell_type": "markdown",
      "metadata": {
        "id": "eljhcgp5aDl2"
      },
      "source": [
        "Log Level"
      ]
    },
    {
      "cell_type": "code",
      "metadata": {
        "id": "2MFgrNOBSMdk",
        "outputId": "80c24dda-2b5d-4f44-ac10-6158bd184735",
        "colab": {
          "base_uri": "https://localhost:8080/"
        }
      },
      "source": [
        "import logging\n",
        "logging.debug('This is a debug message')\n",
        "logging.info('This is an info message')\n",
        "logging.warning('This is a warning message')\n",
        "logging.error('This is an error message')\n",
        "logging.critical('This is a critical message')"
      ],
      "execution_count": 1,
      "outputs": [
        {
          "output_type": "stream",
          "text": [
            "WARNING:root:This is a warning message\n",
            "ERROR:root:This is an error message\n",
            "CRITICAL:root:This is a critical message\n"
          ],
          "name": "stderr"
        }
      ]
    },
    {
      "cell_type": "markdown",
      "metadata": {
        "id": "KnGW4X5zaKTt"
      },
      "source": [
        "Configuration"
      ]
    },
    {
      "cell_type": "code",
      "metadata": {
        "id": "hOFocdabaNTO"
      },
      "source": [
        "import logging\n",
        "logging.basicConfig(level=logging.DEBUG, format='%(asctime)s - %(name)s - %(levelname)s - %(message)s', datefmt='%m/%d/%Y %H:%M:%S')\n",
        "# Now also debug messages will get logged with a different format.\n",
        "logging.debug('Debug message')\n",
        "\n",
        "# This would log to a file instead of the console.\n",
        "# logging.basicConfig(level=logging.DEBUG, filename='app.log')"
      ],
      "execution_count": 5,
      "outputs": []
    },
    {
      "cell_type": "markdown",
      "metadata": {
        "id": "PrC0gRIeafiS"
      },
      "source": [
        "\n",
        "Logging in modules and logger hierarchy"
      ]
    },
    {
      "cell_type": "code",
      "metadata": {
        "id": "Jz7mhVyKagrG"
      },
      "source": [
        "# helper.py\n",
        "# -------------------------------------\n",
        "import logging\n",
        "logger = logging.getLogger(__name__)\n",
        "logger.info('HELLO')\n",
        "\n",
        "# main.py\n",
        "# -------------------------------------\n",
        "import logging\n",
        "logging.basicConfig(level=logging.INFO, format='%(name)s - %(levelname)s - %(message)s')\n",
        "import helper\n",
        "\n",
        "# --> Output when running main.py\n",
        "# helper - INFO - HELLO"
      ],
      "execution_count": 6,
      "outputs": []
    },
    {
      "cell_type": "markdown",
      "metadata": {
        "id": "eewzdE3LalTB"
      },
      "source": [
        "Propagation "
      ]
    },
    {
      "cell_type": "code",
      "metadata": {
        "id": "rwxZcP02aoU6"
      },
      "source": [
        "# helper.py\n",
        "# -------------------------------------\n",
        "import logging\n",
        "logger = logging.getLogger(__name__)\n",
        "logger.propagate = False\n",
        "logger.info('HELLO')\n",
        "\n",
        "# main.py\n",
        "# -------------------------------------\n",
        "import logging\n",
        "logging.basicConfig(level=logging.INFO, format='%(name)s - %(levelname)s - %(message)s')\n",
        "import helper\n",
        "\n",
        "# --> No output when running main.py since the helper module logger does not propagate its messages to the root logger"
      ],
      "execution_count": 7,
      "outputs": []
    },
    {
      "cell_type": "markdown",
      "metadata": {
        "id": "2Kd1piDZataO"
      },
      "source": [
        "LogHandlers"
      ]
    },
    {
      "cell_type": "code",
      "metadata": {
        "id": "hB-Kwh5Vav_C",
        "outputId": "f4a55f5f-43b8-4398-8e73-24dc07b5f3ba",
        "colab": {
          "base_uri": "https://localhost:8080/"
        }
      },
      "source": [
        "import logging\n",
        "\n",
        "logger = logging.getLogger(__name__)\n",
        "\n",
        "# Create handlers\n",
        "stream_handler = logging.StreamHandler()\n",
        "file_handler = logging.FileHandler('file.log')\n",
        "\n",
        "# Configure level and formatter and add it to handlers\n",
        "stream_handler.setLevel(logging.WARNING) # warning and above is logged to the stream\n",
        "file_handler.setLevel(logging.ERROR) # error and above is logged to a file\n",
        "\n",
        "stream_format = logging.Formatter('%(name)s - %(levelname)s - %(message)s')\n",
        "file_format = logging.Formatter('%(asctime)s - %(name)s - %(levelname)s - %(message)s')\n",
        "stream_handler.setFormatter(stream_format)\n",
        "file_handler.setFormatter(file_format)\n",
        "\n",
        "# Add handlers to the logger\n",
        "logger.addHandler(stream_handler)\n",
        "logger.addHandler(file_handler)\n",
        "\n",
        "logger.warning('This is a warning') # logged to the stream\n",
        "logger.error('This is an error') # logged to the stream AND the file!"
      ],
      "execution_count": 8,
      "outputs": [
        {
          "output_type": "stream",
          "text": [
            "__main__ - WARNING - This is a warning\n",
            "__main__ - ERROR - This is an error\n"
          ],
          "name": "stderr"
        }
      ]
    },
    {
      "cell_type": "markdown",
      "metadata": {
        "id": "p4kCvYhla5kl"
      },
      "source": [
        "Example of a filter"
      ]
    },
    {
      "cell_type": "code",
      "metadata": {
        "id": "0xcZ9Jlsa0jv"
      },
      "source": [
        "class InfoFilter(logging.Filter):\n",
        "    \n",
        "    # overwrite this method. Only log records for which this\n",
        "    # function evaluates to True will pass the filter.\n",
        "    def filter(self, record):\n",
        "        return record.levelno == logging.INFO\n",
        "\n",
        "# Now only INFO level messages will be logged\n",
        "stream_handler.addFilter(InfoFilter())\n",
        "logger.addHandler(stream_handler)"
      ],
      "execution_count": 12,
      "outputs": []
    },
    {
      "cell_type": "markdown",
      "metadata": {
        "id": "BqwvZPnva-Oy"
      },
      "source": [
        "\n",
        "Other configuration methods"
      ]
    },
    {
      "cell_type": "code",
      "metadata": {
        "id": "0aB2xp_rbBMc"
      },
      "source": [
        "# logging.conf\n",
        "[loggers]\n",
        "keys=root,simpleExample\n",
        "\n",
        "[handlers]\n",
        "keys=consoleHandler\n",
        "\n",
        "[formatters]\n",
        "keys=simpleFormatter\n",
        "\n",
        "[logger_root]\n",
        "level=DEBUG\n",
        "handlers=consoleHandler\n",
        "\n",
        "[logger_simpleExample]\n",
        "level=DEBUG\n",
        "handlers=consoleHandler\n",
        "qualname=simpleExample\n",
        "propagate=0\n",
        "\n",
        "[handler_consoleHandler]\n",
        "class=StreamHandler\n",
        "level=DEBUG\n",
        "formatter=simpleFormatter\n",
        "args=(sys.stdout,)\n",
        "\n",
        "[formatter_simpleFormatter]\n",
        "format=%(asctime)s - %(name)s - %(levelname)s - %(message)s\n"
      ],
      "execution_count": null,
      "outputs": []
    },
    {
      "cell_type": "code",
      "metadata": {
        "id": "X0X-d-l-bGyS"
      },
      "source": [
        "# Then use the config file in the code\n",
        "import logging\n",
        "import logging.config\n",
        "\n",
        "logging.config.fileConfig('logging.conf')\n",
        "\n",
        "# create logger with the name from the config file. \n",
        "# This logger now has StreamHandler with DEBUG Level and the specified format\n",
        "logger = logging.getLogger('simpleExample')\n",
        "\n",
        "logger.debug('debug message')\n",
        "logger.info('info message')"
      ],
      "execution_count": null,
      "outputs": []
    },
    {
      "cell_type": "markdown",
      "metadata": {
        "id": "Nlzhdmq8bZpZ"
      },
      "source": [
        "Capture Stack traces"
      ]
    },
    {
      "cell_type": "code",
      "metadata": {
        "id": "P_Sl39UebT8i",
        "outputId": "18c806ea-6553-4cfa-b8c6-08f27c359154",
        "colab": {
          "base_uri": "https://localhost:8080/"
        }
      },
      "source": [
        "import logging\n",
        "\n",
        "try:\n",
        "    a = [1, 2, 3]\n",
        "    value = a[3]\n",
        "except IndexError as e:\n",
        "    logging.error(e)\n",
        "    logging.error(e, exc_info=True)"
      ],
      "execution_count": 14,
      "outputs": [
        {
          "output_type": "stream",
          "text": [
            "ERROR:root:list index out of range\n",
            "ERROR:root:list index out of range\n",
            "Traceback (most recent call last):\n",
            "  File \"<ipython-input-14-df97a133cbe6>\", line 5, in <module>\n",
            "    value = a[3]\n",
            "IndexError: list index out of range\n"
          ],
          "name": "stderr"
        }
      ]
    },
    {
      "cell_type": "code",
      "metadata": {
        "id": "TgXbGClcbgqe",
        "outputId": "5824a1dc-e15e-4f3b-b208-f99d36fa581b",
        "colab": {
          "base_uri": "https://localhost:8080/"
        }
      },
      "source": [
        "import logging\n",
        "import traceback\n",
        "\n",
        "try:\n",
        "    a = [1, 2, 3]\n",
        "    value = a[3]\n",
        "except:\n",
        "    logging.error(\"uncaught exception: %s\", traceback.format_exc())"
      ],
      "execution_count": 15,
      "outputs": [
        {
          "output_type": "stream",
          "text": [
            "ERROR:root:uncaught exception: Traceback (most recent call last):\n",
            "  File \"<ipython-input-15-0c2f1bb90728>\", line 6, in <module>\n",
            "    value = a[3]\n",
            "IndexError: list index out of range\n",
            "\n"
          ],
          "name": "stderr"
        }
      ]
    },
    {
      "cell_type": "markdown",
      "metadata": {
        "id": "2l-EhnNGbdlm"
      },
      "source": [
        "Rotating FileHandler"
      ]
    },
    {
      "cell_type": "code",
      "metadata": {
        "id": "PqkzEjB7bm58"
      },
      "source": [
        "import logging\n",
        "from logging.handlers import RotatingFileHandler\n",
        "\n",
        "logger = logging.getLogger(__name__)\n",
        "logger.setLevel(logging.INFO)\n",
        "\n",
        "# roll over after 2KB, and keep backup logs app.log.1, app.log.2 , etc.\n",
        "handler = RotatingFileHandler('app.log', maxBytes=2000, backupCount=5)\n",
        "logger.addHandler(handler)\n",
        "\n",
        "for _ in range(10000):\n",
        "    logger.info('Hello, world!')"
      ],
      "execution_count": 16,
      "outputs": []
    },
    {
      "cell_type": "markdown",
      "metadata": {
        "id": "ZFC7XSKSbrRd"
      },
      "source": [
        "TimedRotatingFileHandler"
      ]
    },
    {
      "cell_type": "code",
      "metadata": {
        "id": "ll3r-ntcbuir"
      },
      "source": [
        "import logging\n",
        "import time\n",
        "from logging.handlers import TimedRotatingFileHandler\n",
        " \n",
        "logger = logging.getLogger(__name__)\n",
        "logger.setLevel(logging.INFO)\n",
        "\n",
        "# This will create a new log file every minute, and 5 backup files with a timestamp before overwriting old logs.\n",
        "handler = TimedRotatingFileHandler('timed_test.log', when='m', interval=1, backupCount=5)\n",
        "logger.addHandler(handler)\n",
        " \n",
        "for i in range(6):\n",
        "    logger.info('Hello, world!')\n",
        "    time.sleep(50)\n"
      ],
      "execution_count": null,
      "outputs": []
    },
    {
      "cell_type": "markdown",
      "metadata": {
        "id": "KPlDMGMrbzPc"
      },
      "source": [
        "\n",
        "Logging in JSON Format"
      ]
    },
    {
      "cell_type": "code",
      "metadata": {
        "id": "q3cCCtC3b261"
      },
      "source": [
        "import logging\n",
        "from pythonjsonlogger import jsonlogger\n",
        "\n",
        "logger = logging.getLogger()\n",
        "\n",
        "logHandler = logging.StreamHandler()\n",
        "formatter = jsonlogger.JsonFormatter()\n",
        "logHandler.setFormatter(formatter)\n",
        "logger.addHandler(logHandler)"
      ],
      "execution_count": null,
      "outputs": []
    }
  ]
}