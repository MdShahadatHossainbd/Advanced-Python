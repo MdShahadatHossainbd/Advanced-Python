{
  "nbformat": 4,
  "nbformat_minor": 0,
  "metadata": {
    "colab": {
      "name": "03. Dictionary.ipynb",
      "provenance": [],
      "authorship_tag": "ABX9TyMWO7EDwLK4z3g3PN3PbS8J",
      "include_colab_link": true
    },
    "kernelspec": {
      "name": "python3",
      "display_name": "Python 3"
    }
  },
  "cells": [
    {
      "cell_type": "markdown",
      "metadata": {
        "id": "view-in-github",
        "colab_type": "text"
      },
      "source": [
        "<a href=\"https://colab.research.google.com/github/MdShahadatHossainbd/Advanced-Python/blob/main/03_Dictionary.ipynb\" target=\"_parent\"><img src=\"https://colab.research.google.com/assets/colab-badge.svg\" alt=\"Open In Colab\"/></a>"
      ]
    },
    {
      "cell_type": "markdown",
      "metadata": {
        "id": "qSB6UGDhiGr_"
      },
      "source": [
        "Create a dictionary"
      ]
    },
    {
      "cell_type": "code",
      "metadata": {
        "id": "LQ5KzNGjgdaa",
        "outputId": "f8e5cd94-f059-49d0-89be-a19f614677ab",
        "colab": {
          "base_uri": "https://localhost:8080/",
          "height": 55
        }
      },
      "source": [
        "my_dict = {\"name\":\"Max\", \"age\":28, \"city\":\"New York\"}\n",
        "print(my_dict)\n",
        "\n",
        "# or use the dict constructor, note: no quotes necessary for keys\n",
        "my_dict_2 = dict(name=\"Lisa\", age=27, city=\"Boston\")\n",
        "print(my_dict_2)"
      ],
      "execution_count": 1,
      "outputs": [
        {
          "output_type": "stream",
          "text": [
            "{'name': 'Max', 'age': 28, 'city': 'New York'}\n",
            "{'name': 'Lisa', 'age': 27, 'city': 'Boston'}\n"
          ],
          "name": "stdout"
        }
      ]
    },
    {
      "cell_type": "markdown",
      "metadata": {
        "id": "xfdut_s7iV5m"
      },
      "source": [
        "Access items"
      ]
    },
    {
      "cell_type": "code",
      "metadata": {
        "id": "UONsOGcwibsE",
        "outputId": "f4f3b553-7036-4edc-8f81-25ad87e8e9c0",
        "colab": {
          "base_uri": "https://localhost:8080/",
          "height": 36
        }
      },
      "source": [
        "name_in_dict = my_dict[\"name\"]\n",
        "print(name_in_dict)\n",
        "\n",
        "# KeyError if no key is found"
      ],
      "execution_count": 2,
      "outputs": [
        {
          "output_type": "stream",
          "text": [
            "Max\n"
          ],
          "name": "stdout"
        }
      ]
    },
    {
      "cell_type": "code",
      "metadata": {
        "id": "hIxmbSaLilZ2",
        "outputId": "7c1476a1-882f-4738-8556-521666e66820",
        "colab": {
          "base_uri": "https://localhost:8080/",
          "height": 177
        }
      },
      "source": [
        "#key is not found\n",
        "print(my_dict[\"lastname\"])"
      ],
      "execution_count": 3,
      "outputs": [
        {
          "output_type": "error",
          "ename": "KeyError",
          "evalue": "ignored",
          "traceback": [
            "\u001b[0;31m---------------------------------------------------------------------------\u001b[0m",
            "\u001b[0;31mKeyError\u001b[0m                                  Traceback (most recent call last)",
            "\u001b[0;32m<ipython-input-3-21ca81ddd22a>\u001b[0m in \u001b[0;36m<module>\u001b[0;34m()\u001b[0m\n\u001b[0;32m----> 1\u001b[0;31m \u001b[0mprint\u001b[0m\u001b[0;34m(\u001b[0m\u001b[0mmy_dict\u001b[0m\u001b[0;34m[\u001b[0m\u001b[0;34m\"lastname\"\u001b[0m\u001b[0;34m]\u001b[0m\u001b[0;34m)\u001b[0m\u001b[0;34m\u001b[0m\u001b[0;34m\u001b[0m\u001b[0m\n\u001b[0m",
            "\u001b[0;31mKeyError\u001b[0m: 'lastname'"
          ]
        }
      ]
    },
    {
      "cell_type": "markdown",
      "metadata": {
        "id": "TS3MohNzioEU"
      },
      "source": [
        "Add and change items"
      ]
    },
    {
      "cell_type": "code",
      "metadata": {
        "id": "5a-sXPU6isQK",
        "outputId": "dfe88aea-e086-458d-d9f5-5af82db00d5c",
        "colab": {
          "base_uri": "https://localhost:8080/",
          "height": 55
        }
      },
      "source": [
        "# add a new key\n",
        "my_dict[\"email\"] = \"max@xyz.com\"\n",
        "print(my_dict)\n",
        "\n",
        "# or overwrite the now existing key\n",
        "my_dict[\"email\"] = \"coolmax@xyz.com\"\n",
        "print(my_dict)"
      ],
      "execution_count": 4,
      "outputs": [
        {
          "output_type": "stream",
          "text": [
            "{'name': 'Max', 'age': 28, 'city': 'New York', 'email': 'max@xyz.com'}\n",
            "{'name': 'Max', 'age': 28, 'city': 'New York', 'email': 'coolmax@xyz.com'}\n"
          ],
          "name": "stdout"
        }
      ]
    },
    {
      "cell_type": "markdown",
      "metadata": {
        "id": "XQLbUDoOi-Kp"
      },
      "source": [
        "Delete items"
      ]
    },
    {
      "cell_type": "code",
      "metadata": {
        "id": "1oB-61QajFbw",
        "outputId": "8d3b2d5c-3603-426c-94af-e2fa50f41876",
        "colab": {
          "base_uri": "https://localhost:8080/",
          "height": 75
        }
      },
      "source": [
        "# delete a key-value pair\n",
        "del my_dict[\"email\"]\n",
        "\n",
        "# this returns the value and removes the key-value pair\n",
        "print(\"popped value:\", my_dict.pop(\"age\"))\n",
        "\n",
        "# return and removes the last inserted key-value pair \n",
        "# (in versions before Python 3.7 it removes an arbitrary pair)\n",
        "print(\"popped item:\", my_dict.popitem())\n",
        "\n",
        "print(my_dict)\n",
        "\n",
        "# clear() : remove all pairs\n",
        "# my_dict.clear()"
      ],
      "execution_count": 5,
      "outputs": [
        {
          "output_type": "stream",
          "text": [
            "popped value: 28\n",
            "popped item: ('city', 'New York')\n",
            "{'name': 'Max'}\n"
          ],
          "name": "stdout"
        }
      ]
    },
    {
      "cell_type": "markdown",
      "metadata": {
        "id": "CpvP5Km0jaaL"
      },
      "source": [
        "Check for keys"
      ]
    },
    {
      "cell_type": "code",
      "metadata": {
        "id": "56nJJ-dOjlJi",
        "outputId": "37f0d80c-c1ca-4cb4-d6db-50f108de8d21",
        "colab": {
          "base_uri": "https://localhost:8080/",
          "height": 55
        }
      },
      "source": [
        "my_dict = {\"name\":\"Max\", \"age\":28, \"city\":\"New York\"}\n",
        "# use if .. in ..\n",
        "if \"name\" in my_dict:\n",
        "    print(my_dict[\"name\"])\n",
        "\n",
        "# use try except\n",
        "try:\n",
        "    print(my_dict[\"firstname\"])\n",
        "except KeyError:\n",
        "    print(\"No key found\")"
      ],
      "execution_count": 6,
      "outputs": [
        {
          "output_type": "stream",
          "text": [
            "Max\n",
            "No key found\n"
          ],
          "name": "stdout"
        }
      ]
    },
    {
      "cell_type": "markdown",
      "metadata": {
        "id": "1qQXeEwBjz2P"
      },
      "source": [
        "Looping through dictionary"
      ]
    },
    {
      "cell_type": "code",
      "metadata": {
        "id": "44igUb6zj3fc",
        "outputId": "871ad366-5698-4cb6-99d7-8c0a70cd7e0f",
        "colab": {
          "base_uri": "https://localhost:8080/",
          "height": 248
        }
      },
      "source": [
        "# loop over keys\n",
        "for key in my_dict:\n",
        "    print(key, my_dict[key])\n",
        "\n",
        "# loop over keys\n",
        "for key in my_dict.keys():\n",
        "    print(key)\n",
        "\n",
        "# loop over values\n",
        "for value in my_dict.values():\n",
        "    print(value)\n",
        "\n",
        "# loop over keys and values\n",
        "for key, value in my_dict.items():\n",
        "    print(key, value)"
      ],
      "execution_count": 7,
      "outputs": [
        {
          "output_type": "stream",
          "text": [
            "name Max\n",
            "age 28\n",
            "city New York\n",
            "name\n",
            "age\n",
            "city\n",
            "Max\n",
            "28\n",
            "New York\n",
            "name Max\n",
            "age 28\n",
            "city New York\n"
          ],
          "name": "stdout"
        }
      ]
    },
    {
      "cell_type": "markdown",
      "metadata": {
        "id": "MFOS9qdtj75l"
      },
      "source": [
        "Copy a dictionary"
      ]
    },
    {
      "cell_type": "code",
      "metadata": {
        "id": "b-KHRitBkD2G",
        "outputId": "6a050a4d-e3e9-40c2-e70a-81582261b095",
        "colab": {
          "base_uri": "https://localhost:8080/",
          "height": 94
        }
      },
      "source": [
        "dict_org = {\"name\":\"Max\", \"age\":28, \"city\":\"New York\"}\n",
        "\n",
        "# this just copies the reference to the dict, so be careful\n",
        "dict_copy = dict_org\n",
        "\n",
        "# now modifying the copy also affects the original\n",
        "dict_copy[\"name\"] = \"Lisa\"\n",
        "print(dict_copy)\n",
        "print(dict_org)\n",
        "\n",
        "# use copy(), or dict(x) to actually copy the dict\n",
        "dict_org = {\"name\":\"Max\", \"age\":28, \"city\":\"New York\"}\n",
        "\n",
        "dict_copy = dict_org.copy()\n",
        "# dict_copy = dict(dict_org)\n",
        "\n",
        "# now modifying the copy does not affect the original\n",
        "dict_copy[\"name\"] = \"Lisa\"\n",
        "print(dict_copy)\n",
        "print(dict_org)"
      ],
      "execution_count": 8,
      "outputs": [
        {
          "output_type": "stream",
          "text": [
            "{'name': 'Lisa', 'age': 28, 'city': 'New York'}\n",
            "{'name': 'Lisa', 'age': 28, 'city': 'New York'}\n",
            "{'name': 'Lisa', 'age': 28, 'city': 'New York'}\n",
            "{'name': 'Max', 'age': 28, 'city': 'New York'}\n"
          ],
          "name": "stdout"
        }
      ]
    },
    {
      "cell_type": "markdown",
      "metadata": {
        "id": "KR2FkOlEkKZf"
      },
      "source": [
        "Merge two dictionaries"
      ]
    },
    {
      "cell_type": "code",
      "metadata": {
        "id": "OaqKVmfpkNvX",
        "outputId": "08ce9b3a-9c4d-4da2-996e-a9ee9d5f199a",
        "colab": {
          "base_uri": "https://localhost:8080/",
          "height": 36
        }
      },
      "source": [
        "# Use the update() method to merge 2 dicts\n",
        "# existing keys are overwritten, new keys are added\n",
        "my_dict = {\"name\":\"Max\", \"age\":28, \"email\":\"max@xyz.com\"}\n",
        "my_dict_2 = dict(name=\"Lisa\", age=27, city=\"Boston\")\n",
        "\n",
        "my_dict.update(my_dict_2)\n",
        "print(my_dict)"
      ],
      "execution_count": 9,
      "outputs": [
        {
          "output_type": "stream",
          "text": [
            "{'name': 'Lisa', 'age': 27, 'email': 'max@xyz.com', 'city': 'Boston'}\n"
          ],
          "name": "stdout"
        }
      ]
    },
    {
      "cell_type": "markdown",
      "metadata": {
        "id": "lMigE61ulTTV"
      },
      "source": [
        "Possible key types"
      ]
    },
    {
      "cell_type": "code",
      "metadata": {
        "id": "pP2SX59QlXFN",
        "outputId": "b85d54c0-74be-47a7-86b2-c8aca2e2d7e8",
        "colab": {
          "base_uri": "https://localhost:8080/",
          "height": 55
        }
      },
      "source": [
        "# use numbers as key, but be careful\n",
        "my_dict = {3: 9, 6: 36, 9:81}\n",
        "# do not mistake the keys as indices of a list, e.g my_dict[0] is not possible here\n",
        "print(my_dict[3], my_dict[6], my_dict[9])\n",
        "\n",
        "# use a tuple with immutable elements (e.g. number, string)\n",
        "my_tuple = (8, 7)\n",
        "my_dict = {my_tuple: 15}\n",
        "\n",
        "print(my_dict[my_tuple])\n",
        "# print(my_dict[8, 7])\n",
        "\n",
        "# a list is not possible because it is not immutable\n",
        "# this will raise an Error:\n",
        "# my_list = [8, 7]\n",
        "# my_dict = {my_list: 15}"
      ],
      "execution_count": 10,
      "outputs": [
        {
          "output_type": "stream",
          "text": [
            "9 36 81\n",
            "15\n"
          ],
          "name": "stdout"
        }
      ]
    },
    {
      "cell_type": "markdown",
      "metadata": {
        "id": "hSz1tsnMlfpP"
      },
      "source": [
        "Nested dictionaries"
      ]
    },
    {
      "cell_type": "code",
      "metadata": {
        "id": "lhcsfXoJlwGz",
        "outputId": "faa6a0da-826d-427d-a7cd-8eac7646c51f",
        "colab": {
          "base_uri": "https://localhost:8080/",
          "height": 36
        }
      },
      "source": [
        "my_dict_1 = {\"name\": \"Max\", \"age\": 28}\n",
        "my_dict_2 = {\"name\": \"Alex\", \"age\": 25}\n",
        "nested_dict = {\"dictA\": my_dict_1,\n",
        "               \"dictB\": my_dict_2}\n",
        "print(nested_dict)"
      ],
      "execution_count": 11,
      "outputs": [
        {
          "output_type": "stream",
          "text": [
            "{'dictA': {'name': 'Max', 'age': 28}, 'dictB': {'name': 'Alex', 'age': 25}}\n"
          ],
          "name": "stdout"
        }
      ]
    }
  ]
}