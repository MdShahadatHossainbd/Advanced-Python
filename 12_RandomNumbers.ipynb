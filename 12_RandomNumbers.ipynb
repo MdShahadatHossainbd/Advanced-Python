{
  "nbformat": 4,
  "nbformat_minor": 0,
  "metadata": {
    "colab": {
      "name": "12 RandomNumbers.ipynb",
      "provenance": [],
      "authorship_tag": "ABX9TyNuV/gS4aoesJV7Hr0IBvIX",
      "include_colab_link": true
    },
    "kernelspec": {
      "name": "python3",
      "display_name": "Python 3"
    }
  },
  "cells": [
    {
      "cell_type": "markdown",
      "metadata": {
        "id": "view-in-github",
        "colab_type": "text"
      },
      "source": [
        "<a href=\"https://colab.research.google.com/github/MdShahadatHossainbd/Advanced-Python/blob/main/12_RandomNumbers.ipynb\" target=\"_parent\"><img src=\"https://colab.research.google.com/assets/colab-badge.svg\" alt=\"Open In Colab\"/></a>"
      ]
    },
    {
      "cell_type": "markdown",
      "metadata": {
        "id": "RRjj_Ir6YzuI"
      },
      "source": [
        "\n",
        "Random Numbers\n",
        "\n",
        "Python defines a set of functions that are used to generate or manipulate random numbers. This article covers:\n",
        "\n",
        "    the random module\n",
        "    reproduce numbers with random.seed()\n",
        "    create cryptographically strong random numbers with the secrets module\n",
        "    create random nd arrays with numpy.random\n",
        "\n",
        "The random module\n",
        "\n",
        "This module implements pseudo-random number generators for various distributions. It uses the Mersenne Twister algorithm (https://en.wikipedia.org/wiki/Mersenne_Twister) as its core generator. It is called pseudo-random, because the numbers seem random, but are reproducable.\n"
      ]
    },
    {
      "cell_type": "code",
      "metadata": {
        "id": "AC-YKuQYYpu-",
        "outputId": "50873b34-9c32-48fe-ecf2-f2775c1be722",
        "colab": {
          "base_uri": "https://localhost:8080/"
        }
      },
      "source": [
        "import random\n",
        "\n",
        "# random float in [0,1)\n",
        "a = random.random()\n",
        "print(a)\n",
        "\n",
        "# random float in range [a,b]\n",
        "a = random.uniform(1,10)\n",
        "print(a)\n",
        "\n",
        "# random integer in range [a,b]. b is included\n",
        "a = random.randint(1,10)\n",
        "print(a)\n",
        "\n",
        "# random integer in range [a,b). b is excluded\n",
        "a = random.randrange(1,10)\n",
        "print(a)\n",
        "\n",
        "# random float from a normal distribution with mu and sigma\n",
        "a = random.normalvariate(0, 1)\n",
        "print(a)\n",
        "\n",
        "# choose a random element from a sequence\n",
        "a = random.choice(list(\"ABCDEFGHI\"))\n",
        "print(a)\n",
        "\n",
        "# choose k unique random elements from a sequence\n",
        "a = random.sample(list(\"ABCDEFGHI\"), 3)\n",
        "print(a)\n",
        "\n",
        "# choose k elements with replacement, and return k sized list\n",
        "a = random.choices(list(\"ABCDEFGHI\"),k=3)\n",
        "print(a)\n",
        "\n",
        "# shuffle list in place\n",
        "a = list(\"ABCDEFGHI\")\n",
        "random.shuffle(a)\n",
        "print(a)"
      ],
      "execution_count": 1,
      "outputs": [
        {
          "output_type": "stream",
          "text": [
            "0.48487218656363595\n",
            "9.289856475936675\n",
            "4\n",
            "4\n",
            "-0.827173483714057\n",
            "F\n",
            "['H', 'E', 'D']\n",
            "['C', 'G', 'C']\n",
            "['F', 'H', 'B', 'D', 'A', 'E', 'I', 'G', 'C']\n"
          ],
          "name": "stdout"
        }
      ]
    },
    {
      "cell_type": "markdown",
      "metadata": {
        "id": "fyorVSTXZB4A"
      },
      "source": [
        "\n",
        "The seed generator\n",
        "\n",
        "With random.seed(), you can make results reproducible, and the chain of calls after random.seed() will produce the same trail of data. The sequence of random numbers becomes deterministic, or completely determined by the seed value.\n"
      ]
    },
    {
      "cell_type": "code",
      "metadata": {
        "id": "2Dyja4riZC0f",
        "outputId": "a98c1836-b1b9-480d-9f8b-333f417f1587",
        "colab": {
          "base_uri": "https://localhost:8080/"
        }
      },
      "source": [
        "print('Seeding with 1...\\n')\n",
        "\n",
        "random.seed(1)\n",
        "print(random.random())\n",
        "print(random.uniform(1,10))\n",
        "print(random.choice(list(\"ABCDEFGHI\")))\n",
        "\n",
        "print('\\nRe-seeding with 42...\\n')\n",
        "random.seed(42)  # Re-seed\n",
        "\n",
        "print(random.random())\n",
        "print(random.uniform(1,10))\n",
        "print(random.choice(list(\"ABCDEFGHI\")))\n",
        "\n",
        "print('\\nRe-seeding with 1...\\n')\n",
        "random.seed(1)  # Re-seed\n",
        "\n",
        "print(random.random())\n",
        "print(random.uniform(1,10))\n",
        "print(random.choice(list(\"ABCDEFGHI\")))\n",
        "\n",
        "print('\\nRe-seeding with 42...\\n')\n",
        "random.seed(42)  # Re-seed\n",
        "\n",
        "print(random.random())\n",
        "print(random.uniform(1,10))\n",
        "print(random.choice(list(\"ABCDEFGHI\")))"
      ],
      "execution_count": 3,
      "outputs": [
        {
          "output_type": "stream",
          "text": [
            "Seeding with 1...\n",
            "\n",
            "0.13436424411240122\n",
            "8.626903632435095\n",
            "B\n",
            "\n",
            "Re-seeding with 42...\n",
            "\n",
            "0.6394267984578837\n",
            "1.2250967970040025\n",
            "E\n",
            "\n",
            "Re-seeding with 1...\n",
            "\n",
            "0.13436424411240122\n",
            "8.626903632435095\n",
            "B\n",
            "\n",
            "Re-seeding with 42...\n",
            "\n",
            "0.6394267984578837\n",
            "1.2250967970040025\n",
            "E\n"
          ],
          "name": "stdout"
        }
      ]
    },
    {
      "cell_type": "markdown",
      "metadata": {
        "id": "HlZMiwbXZ6aG"
      },
      "source": [
        "\n",
        "The secrets module\n",
        "\n",
        "The secrets module is used for generating cryptographically strong random numbers suitable for managing data such as passwords, account authentication, security tokens, and related secrets.\n",
        "In particularly, secrets should be used in preference to the default pseudo-random number generator in the random module, which is designed for modelling and simulation, not security or cryptography.\n"
      ]
    },
    {
      "cell_type": "code",
      "metadata": {
        "id": "-z-1tYAjaEz_",
        "outputId": "ae724e05-1c77-4eae-b208-45db8453242d",
        "colab": {
          "base_uri": "https://localhost:8080/"
        }
      },
      "source": [
        "import secrets\n",
        "\n",
        "# random integer in range [0, n).\n",
        "a = secrets.randbelow(10)\n",
        "print(a)\n",
        "\n",
        "# return an integer with k random bits.\n",
        "a = secrets.randbits(5)\n",
        "print(a)\n",
        "\n",
        "# choose a random element from a sequence\n",
        "a = secrets.choice(list(\"ABCDEFGHI\"))\n",
        "print(a)"
      ],
      "execution_count": 4,
      "outputs": [
        {
          "output_type": "stream",
          "text": [
            "8\n",
            "14\n",
            "H\n"
          ],
          "name": "stdout"
        }
      ]
    },
    {
      "cell_type": "markdown",
      "metadata": {
        "id": "YaIsQgSPaI_f"
      },
      "source": [
        "\n",
        "Random numbers with NumPy\n",
        "\n",
        "Create random numbers for nd arrays. The NumPy pseudorandom number generator is different from the Python standard library pseudorandom number generator.\n",
        "Importantly, seeding the Python pseudorandom number generator does not impact the NumPy pseudorandom number generator. It must be seeded and used separately.\n"
      ]
    },
    {
      "cell_type": "code",
      "metadata": {
        "id": "Qbzo86RraNCG",
        "outputId": "cfb210c6-c7dc-4017-a20f-c28da6bd4c26",
        "colab": {
          "base_uri": "https://localhost:8080/"
        }
      },
      "source": [
        "import numpy as np\n",
        "\n",
        "np.random.seed(1)\n",
        "# rand(d0,d1,…,dn)\n",
        "# generate nd array with random floats, arrays has size (d0,d1,…,dn)\n",
        "print(np.random.rand(3))\n",
        "# reset the seed\n",
        "np.random.seed(1)\n",
        "print(np.random.rand(3))\n",
        "\n",
        "# generate nd array with random integers in range [a,b) with size n\n",
        "values = np.random.randint(0, 10, (5,3))\n",
        "print(values)\n",
        "\n",
        "# generate nd array with Gaussian values, array has size (d0,d1,…,dn)\n",
        "# values from standard normal distribution with mean 0.0 and standard deviation 1.0\n",
        "values = np.random.randn(5)\n",
        "print(values)\n",
        "\n",
        "# randomly shuffle a nd array.\n",
        "# only shuffles the array along the first axis of a multi-dimensional array\n",
        "arr = np.array([[1,2,3], [4,5,6], [7,8,9]])\n",
        "np.random.shuffle(arr)\n",
        "print(arr)"
      ],
      "execution_count": 5,
      "outputs": [
        {
          "output_type": "stream",
          "text": [
            "[4.17022005e-01 7.20324493e-01 1.14374817e-04]\n",
            "[4.17022005e-01 7.20324493e-01 1.14374817e-04]\n",
            "[[5 0 0]\n",
            " [1 7 6]\n",
            " [9 2 4]\n",
            " [5 2 4]\n",
            " [2 4 7]]\n",
            "[-2.29230928 -1.41555249  0.8858294   0.63190187  0.04026035]\n",
            "[[4 5 6]\n",
            " [7 8 9]\n",
            " [1 2 3]]\n"
          ],
          "name": "stdout"
        }
      ]
    }
  ]
}